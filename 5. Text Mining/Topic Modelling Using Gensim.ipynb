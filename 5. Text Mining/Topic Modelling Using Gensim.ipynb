{
 "cells": [
  {
   "cell_type": "markdown",
   "metadata": {},
   "source": [
    "### Topic Modelling Demo Code"
   ]
  },
  {
   "cell_type": "markdown",
   "metadata": {},
   "source": [
    "#### Things I want to do -\n",
    "- Identify a package to build / train LDA model\n",
    "- Use visualization to explore Documents -> Topics Distribution -> Word distribution"
   ]
  },
  {
   "cell_type": "code",
   "execution_count": null,
   "metadata": {},
   "outputs": [],
   "source": [
    "!pip install pyLDAvis, gensim"
   ]
  },
  {
   "cell_type": "code",
   "execution_count": 3,
   "metadata": {},
   "outputs": [
    {
     "name": "stderr",
     "output_type": "stream",
     "text": [
      "/Users/paragpradhan/opt/anaconda3/lib/python3.8/site-packages/scipy/sparse/sparsetools.py:21: DeprecationWarning: `scipy.sparse.sparsetools` is deprecated!\n",
      "scipy.sparse.sparsetools is a private module for scipy.sparse, and should not be used.\n",
      "  _deprecated()\n"
     ]
    }
   ],
   "source": [
    "import numpy as np\n",
    "import pandas as pd\n",
    "\n",
    "# Visualization\n",
    "import matplotlib.pyplot as plt\n",
    "from matplotlib.ticker import FuncFormatter\n",
    "import seaborn as sns\n",
    "import pyLDAvis.gensim\n",
    "\n",
    "# Text Preprocessing and model building\n",
    "from gensim.corpora import Dictionary\n",
    "import nltk\n",
    "from nltk.stem import WordNetLemmatizer\n",
    "import re\n",
    "# Iteratively read files\n",
    "import glob\n",
    "import os\n",
    "\n",
    "# For displaying images in ipython\n",
    "from IPython.display import HTML, display"
   ]
  },
  {
   "cell_type": "code",
   "execution_count": 4,
   "metadata": {},
   "outputs": [],
   "source": [
    "%matplotlib inline\n",
    "plt.style.use('ggplot')\n",
    "plt.rcParams['figure.figsize'] = (14.0, 8.7)\n",
    "#warnings.filterwarnings('ignore')\n",
    "pd.options.display.float_format = '{:,.2f}'.format"
   ]
  },
  {
   "cell_type": "markdown",
   "metadata": {},
   "source": [
    "<h2>Latent Dirichlet Allocation</h2>\n",
    "<h3>From Documents -- DTM -- LDA Model</h3>\n",
    "\n",
    "Topic modeling aims to automatically summarize large collections of documents to facilitate organization and management, as well as search and recommendations. At the same time, it can enable the understanding of documents to the extent that humans can interpret the descriptions of topics\n",
    "\n",
    "<img src=\"images/lda2.png\" alt=\"lda\" style=\"width:60%\">\n",
    "<img src=\"images/docs_to_lda.png\" alt=\"ldaflow\" style=\"width:100%\">"
   ]
  },
  {
   "cell_type": "markdown",
   "metadata": {},
   "source": [
    "### Load Data"
   ]
  },
  {
   "cell_type": "code",
   "execution_count": 5,
   "metadata": {},
   "outputs": [],
   "source": [
    "# User defined function to read and store bbc data from multipe folders\n",
    "def load_data(folder_names,root_path):\n",
    "    fileNames = [path + '/' + 'bbc' +'/'+ folder + '/*.txt' for path,folder in zip([root_path]*len(folder_names),\n",
    "                                                                               folder_names )]\n",
    "    doc_list = []\n",
    "    tags = folder_names\n",
    "    for docs in fileNames:\n",
    "        #print(docs)\n",
    "        #print(type(docs))\n",
    "        doc = glob.glob(docs) # glob method iterates through the all the text documents in a folder\n",
    "        for text in doc:\n",
    "            with open(text, encoding='latin1') as f:\n",
    "                topic = docs.split('/')[-2]\n",
    "\n",
    "                lines = f.readlines()\n",
    "                heading = lines[0].strip()\n",
    "                body = ' '.join([l.strip() for l in lines[1:]])\n",
    "                doc_list.append([topic, heading, body])\n",
    "        print(\"Completed loading data from folder: %s\"%topic)\n",
    "    \n",
    "    print(\"Completed Loading entire text\")\n",
    "    \n",
    "    return doc_list"
   ]
  },
  {
   "cell_type": "code",
   "execution_count": 6,
   "metadata": {},
   "outputs": [
    {
     "name": "stdout",
     "output_type": "stream",
     "text": [
      "Completed loading data from folder: business\n",
      "Completed loading data from folder: entertainment\n",
      "Completed loading data from folder: politics\n",
      "Completed loading data from folder: sport\n",
      "Completed loading data from folder: tech\n",
      "Completed Loading entire text\n"
     ]
    }
   ],
   "source": [
    "folder_names = ['business','entertainment','politics','sport','tech']\n",
    "docs = load_data(folder_names = folder_names, root_path = os.getcwd())"
   ]
  },
  {
   "cell_type": "code",
   "execution_count": 7,
   "metadata": {},
   "outputs": [
    {
     "name": "stdout",
     "output_type": "stream",
     "text": [
      "   Category                            Heading  \\\n",
      "0  business    UK economy facing 'major risks'   \n",
      "1  business  Aids and climate top Davos agenda   \n",
      "2  business   Asian quake hits European shares   \n",
      "3  business   India power shares jump on debut   \n",
      "4  business    Lacroix label bought by US firm   \n",
      "\n",
      "                                             Article  \n",
      "0   The UK manufacturing sector will continue to ...  \n",
      "1   Climate change and the fight against Aids are...  \n",
      "2   Shares in Europe's leading reinsurers and tra...  \n",
      "3   Shares in India's largest power producer, Nat...  \n",
      "4   Luxury goods group LVMH has sold its loss-mak...  \n",
      "\n",
      "Shape of data is (2225, 3)\n",
      "\n"
     ]
    }
   ],
   "source": [
    "docs = pd.DataFrame(docs, columns=['Category', 'Heading', 'Article'])\n",
    "print(docs.head())\n",
    "print('\\nShape of data is {}\\n'.format(docs.shape))"
   ]
  },
  {
   "cell_type": "markdown",
   "metadata": {},
   "source": [
    "### Extract Raw Corpus"
   ]
  },
  {
   "cell_type": "code",
   "execution_count": 8,
   "metadata": {},
   "outputs": [],
   "source": [
    "articles = docs.Article.tolist()"
   ]
  },
  {
   "cell_type": "code",
   "execution_count": 9,
   "metadata": {},
   "outputs": [
    {
     "name": "stdout",
     "output_type": "stream",
     "text": [
      "<class 'list'>\n",
      "[' The UK manufacturing sector will continue to face \"serious challenges\" over the next two years, the British Chamber of Commerce (BCC) has said.  The group\\'s quarterly survey of companies found exports had picked up in the last three months of 2004 to their best levels in eight years. The rise came despite exchange rates being cited as a major concern. However, the BCC found the whole UK economy still faced \"major risks\" and warned that growth is set to slow. It recently forecast economic growth will slow from more than 3% in 2004 to a little below 2.5% in both 2005 and 2006.  Manufacturers\\' domestic sales growth fell back slightly in the quarter, the survey of 5,196 firms found. Employment in manufacturing also fell and job expectations were at their lowest level for a year.  \"Despite some positive news for the export sector, there are worrying signs for manufacturing,\" the BCC said. \"These results reinforce our concern over the sector\\'s persistent inability to sustain recovery.\" The outlook for the service sector was \"uncertain\" despite an increase in exports and orders over the quarter, the BCC noted.  The BCC found confidence increased in the quarter across both the manufacturing and service sectors although overall it failed to reach the levels at the start of 2004. The reduced threat of interest rate increases had contributed to improved confidence, it said. The Bank of England raised interest rates five times between November 2003 and August last year. But rates have been kept on hold since then amid signs of falling consumer confidence and a slowdown in output. \"The pressure on costs and margins, the relentless increase in regulations, and the threat of higher taxes remain serious problems,\" BCC director general David Frost said. \"While consumer spending is set to decelerate significantly over the next 12-18 months, it is unlikely that investment and exports will rise sufficiently strongly to pick up the slack.\"', ' Climate change and the fight against Aids are leading the list of concerns for the first day of the World Economic Forum in the Swiss resort of Davos.  Some 2,000 business and political leaders from around the globe will listen to UK Prime Minister Tony Blair\\'s opening speech on Wednesday. Mr Blair will focus on Africa\\'s development plans and global warming. Earlier in the day came an update on efforts to have 3 million people on anti-Aids drugs by the end of 2005. The World Health Organisation (WHO) said 700,000 people in poor countries were on life-extending drugs - up from 440,000 six months earlier but amounting to only 12% of the 5.8 million who needed them. A $2bn \"funding gap\" still stood in the way of hitting the 2005 target, the WHO said.  The themes to be stressed by Mr Blair - whose attendance was announced at the last minute - are those he wants to dominate the UK\\'s chairmanship of the G8 group of industrialised states. Other issues to be discussed at the five-day conference range from China\\'s  economic power to Iraq\\'s future after this Sunday\\'s elections. Aside from Mr Blair, more than 20 other world leaders are expected to attend including French President Jacques Chirac - due to speak by video link after bad weather delayed his helicopter - and South African President Thabo Mbeki, whose arrival has been delayed by Ivory Coast peace talks. The Ukraine\\'s new president, Viktor Yushchenko, will also be there - as will newly elected Palestinian leader Mahmoud Abbas. Showbiz figures will also put in an appearance, from U2 frontman Bono - a well-known campaigner on trade and development issues - to Angelina Jolie, a goodwill campaigner for the UN on refugees.  Unlike previous years, protests against the WEF are expected to be muted. Anti-globalisation campaigners have called off a demonstration planned for the weekend. At the same time, about 100,000 people are expected to converge on the Brazilian resort of Porto Alegre for the World Social Forum - the so-called \"anti-Davos\" for campaigners against globalisation, for fair trade, and many other causes.  In contrast, the Davos forum is dominated by business issues - from outsourcing to corporate leadership - with bosses of more than a fifth of the world\\'s 500 largest companies scheduled to attend. A survey published on the eve of the conference by PricewaterhouseCoopers said four in ten business leaders were \"very confident\" that their companies would see sales rise in 2005. Asian and American executives, however, were much more confident than their European counterparts. But the political discussions, focusing on Iran, Iraq and China, are likely to dominate media attention.']\n"
     ]
    }
   ],
   "source": [
    "print(type(articles))\n",
    "print(articles[0:2])"
   ]
  },
  {
   "cell_type": "code",
   "execution_count": 10,
   "metadata": {},
   "outputs": [],
   "source": [
    "wordnet_lemmatizer = WordNetLemmatizer()"
   ]
  },
  {
   "cell_type": "markdown",
   "metadata": {},
   "source": [
    "### Preprocessing of Raw Text"
   ]
  },
  {
   "cell_type": "code",
   "execution_count": 48,
   "metadata": {},
   "outputs": [],
   "source": [
    "from nltk.corpus import stopwords\n",
    "import nltk\n",
    "# nltk.download('punkt')\n",
    "# nltk.download('wordnet')\n",
    "# nltk.download('stopwords')"
   ]
  },
  {
   "cell_type": "code",
   "execution_count": 51,
   "metadata": {},
   "outputs": [
    {
     "name": "stderr",
     "output_type": "stream",
     "text": [
      "[nltk_data] Downloading package stopwords to\n",
      "[nltk_data]     /Users/paragpradhan/nltk_data...\n",
      "[nltk_data]   Unzipping corpora/stopwords.zip.\n"
     ]
    },
    {
     "data": {
      "text/plain": [
       "True"
      ]
     },
     "execution_count": 51,
     "metadata": {},
     "output_type": "execute_result"
    }
   ],
   "source": [
    "# nltk.download('stopwords')"
   ]
  },
  {
   "cell_type": "code",
   "execution_count": null,
   "metadata": {},
   "outputs": [],
   "source": [
    "stopwords = stopwords.word('english')"
   ]
  },
  {
   "cell_type": "code",
   "execution_count": 56,
   "metadata": {},
   "outputs": [],
   "source": [
    "# Method to preprocess my raw data\n",
    "def preprocessText(x):\n",
    "    temp = x.lower()\n",
    "    temp = re.sub(r'[^\\w]', ' ', temp)\n",
    "    temp = nltk.word_tokenize(temp)\n",
    "    temp = [wordnet_lemmatizer.lemmatize(w) for w in temp]\n",
    "    temp = [word for word in temp if word not in stopwords ]\n",
    "    return temp"
   ]
  },
  {
   "cell_type": "code",
   "execution_count": 57,
   "metadata": {},
   "outputs": [],
   "source": [
    "articles_final = [preprocessText(article) for article in articles]"
   ]
  },
  {
   "cell_type": "code",
   "execution_count": null,
   "metadata": {},
   "outputs": [],
   "source": [
    "articles_final[0:2]"
   ]
  },
  {
   "cell_type": "markdown",
   "metadata": {},
   "source": [
    "### Transformation of Preprocessed text into Vector form using Gensim"
   ]
  },
  {
   "cell_type": "code",
   "execution_count": 60,
   "metadata": {},
   "outputs": [],
   "source": [
    "# Create a dictionary representation of the documents.\n",
    "dictionary = Dictionary(articles_final)\n",
    "\n",
    "# Filter out words that occur less than 20 documents, or more than 50% of the documents.\n",
    "dictionary.filter_extremes(no_below=20, no_above=0.5)"
   ]
  },
  {
   "cell_type": "code",
   "execution_count": 61,
   "metadata": {},
   "outputs": [
    {
     "name": "stdout",
     "output_type": "stream",
     "text": [
      "Dictionary(3101 unique tokens: ['12', '18', '2', '2003', '2004']...)\n"
     ]
    }
   ],
   "source": [
    "print(dictionary)"
   ]
  },
  {
   "cell_type": "code",
   "execution_count": 62,
   "metadata": {},
   "outputs": [],
   "source": [
    "# Bag-of-words representation of the documents.\n",
    "corpus = [dictionary.doc2bow(doc) for doc in articles_final]"
   ]
  },
  {
   "cell_type": "code",
   "execution_count": 63,
   "metadata": {},
   "outputs": [
    {
     "name": "stdout",
     "output_type": "stream",
     "text": [
      "Number of unique tokens: 3101\n",
      "Number of documents: 2225\n"
     ]
    }
   ],
   "source": [
    "print('Number of unique tokens: %d' % len(dictionary))\n",
    "print('Number of documents: %d' % len(corpus))"
   ]
  },
  {
   "cell_type": "markdown",
   "metadata": {},
   "source": [
    "### Train LDA model using Gensim"
   ]
  },
  {
   "cell_type": "code",
   "execution_count": 22,
   "metadata": {},
   "outputs": [
    {
     "data": {
      "text/plain": [
       "<gensim.corpora.dictionary.Dictionary at 0x7f9b79679fa0>"
      ]
     },
     "execution_count": 22,
     "metadata": {},
     "output_type": "execute_result"
    }
   ],
   "source": [
    "dictionary"
   ]
  },
  {
   "cell_type": "code",
   "execution_count": 64,
   "metadata": {},
   "outputs": [],
   "source": [
    "# Train LDA model.\n",
    "from gensim.models import LdaModel\n",
    "\n",
    "# Set training parameters.\n",
    "num_topics = 5\n",
    "chunksize = 2000\n",
    "passes = 10\n",
    "# iterations = 400\n",
    "eval_every = None  # Don't evaluate model perplexity, takes too much time.\n",
    "\n",
    "# Make a index to word dictionary.\n",
    "temp = dictionary[0]  # This is only to \"load\" the dictionary.\n",
    "id2word = dictionary.id2token\n",
    "\n",
    "model = LdaModel(\n",
    "    corpus=corpus,\n",
    "    id2word=id2word,\n",
    "    chunksize=chunksize,\n",
    "    alpha='auto',\n",
    "    eta='auto',\n",
    "#     iterations=iterations,\n",
    "    num_topics=num_topics,\n",
    "    passes=passes,\n",
    "    eval_every=eval_every\n",
    ")"
   ]
  },
  {
   "cell_type": "markdown",
   "metadata": {},
   "source": [
    "### Model exploration: Top K words in each topic"
   ]
  },
  {
   "cell_type": "code",
   "execution_count": 65,
   "metadata": {},
   "outputs": [
    {
     "name": "stdout",
     "output_type": "stream",
     "text": [
      "[(0,\n",
      "  '0.014*\"game\" + 0.009*\"microsoft\" + 0.008*\"software\" + 0.008*\"virus\" + '\n",
      "  '0.008*\"new\" + 0.008*\"firm\" + 0.007*\"file\" + 0.007*\"system\" + 0.007*\"site\" + '\n",
      "  '0.007*\"program\" + 0.007*\"technology\" + 0.007*\"machine\" + 0.006*\"mr\" + '\n",
      "  '0.006*\"mail\" + 0.006*\"people\" + 0.006*\"network\" + 0.006*\"user\" + '\n",
      "  '0.005*\"sony\" + 0.005*\"computer\" + 0.005*\"window\"'),\n",
      " (1,\n",
      "  '0.015*\"people\" + 0.012*\"service\" + 0.011*\"mobile\" + 0.009*\"phone\" + '\n",
      "  '0.008*\"one\" + 0.008*\"could\" + 0.007*\"user\" + 0.007*\"technology\" + '\n",
      "  '0.007*\"uk\" + 0.007*\"internet\" + 0.006*\"network\" + 0.006*\"broadband\" + '\n",
      "  '0.006*\"net\" + 0.006*\"online\" + 0.006*\"system\" + 0.006*\"use\" + '\n",
      "  '0.006*\"million\" + 0.006*\"new\" + 0.006*\"access\" + 0.006*\"company\"'),\n",
      " (2,\n",
      "  '0.017*\"game\" + 0.009*\"film\" + 0.008*\"best\" + 0.008*\"time\" + 0.007*\"one\" + '\n",
      "  '0.006*\"first\" + 0.005*\"world\" + 0.005*\"award\" + 0.005*\"player\" + '\n",
      "  '0.005*\"like\" + 0.005*\"last\" + 0.005*\"two\" + 0.004*\"new\" + 0.004*\"team\" + '\n",
      "  '0.004*\"back\" + 0.004*\"play\" + 0.004*\"win\" + 0.004*\"well\" + 0.004*\"star\" + '\n",
      "  '0.004*\"take\"'),\n",
      " (3,\n",
      "  '0.015*\"mr\" + 0.008*\"u\" + 0.007*\"â\" + 0.006*\"government\" + 0.004*\"new\" + '\n",
      "  '0.004*\"company\" + 0.004*\"election\" + 0.004*\"party\" + 0.004*\"say\" + '\n",
      "  '0.004*\"labour\" + 0.004*\"minister\" + 0.004*\"could\" + 0.004*\"country\" + '\n",
      "  '0.004*\"last\" + 0.004*\"told\" + 0.004*\"people\" + 0.003*\"1\" + 0.003*\"one\" + '\n",
      "  '0.003*\"000\" + 0.003*\"plan\"'),\n",
      " (4,\n",
      "  '0.012*\"mobile\" + 0.012*\"people\" + 0.010*\"music\" + 0.010*\"technology\" + '\n",
      "  '0.009*\"phone\" + 0.008*\"tv\" + 0.008*\"player\" + 0.007*\"gadget\" + '\n",
      "  '0.007*\"digital\" + 0.007*\"search\" + 0.007*\"video\" + 0.006*\"one\" + 0.006*\"mr\" '\n",
      "  '+ 0.006*\"could\" + 0.006*\"show\" + 0.006*\"device\" + 0.005*\"apple\" + '\n",
      "  '0.005*\"service\" + 0.005*\"medium\" + 0.005*\"new\"')]\n"
     ]
    }
   ],
   "source": [
    "# Print the Keyword in the 10 topics\n",
    "pprint.pprint(model.print_topics(num_words= 20))\n",
    "doc_lda = model[corpus]"
   ]
  },
  {
   "cell_type": "markdown",
   "metadata": {},
   "source": [
    "### Model Visualization using PyLDAvis"
   ]
  },
  {
   "cell_type": "code",
   "execution_count": 66,
   "metadata": {},
   "outputs": [
    {
     "data": {
      "text/html": [
       "\n",
       "<link rel=\"stylesheet\" type=\"text/css\" href=\"https://cdn.rawgit.com/bmabey/pyLDAvis/files/ldavis.v1.0.0.css\">\n",
       "\n",
       "\n",
       "<div id=\"ldavis_el192031403053706419047365842913\"></div>\n",
       "<script type=\"text/javascript\">\n",
       "\n",
       "var ldavis_el192031403053706419047365842913_data = {\"mdsDat\": {\"x\": [-0.0858582403328118, -0.1775539394608799, 0.07898120686920576, 0.09458533421851424, 0.08984563870597174], \"y\": [-0.13744328310658324, 0.08618099572246282, 0.07065449657999631, -0.07108792632787735, 0.05169571713200129], \"topics\": [1, 2, 3, 4, 5], \"cluster\": [1, 1, 1, 1, 1], \"Freq\": [43.81101608276367, 30.45443344116211, 10.002068519592285, 8.840452194213867, 6.892026424407959]}, \"tinfo\": {\"Term\": [\"game\", \"people\", \"mobile\", \"mr\", \"service\", \"phone\", \"technology\", \"player\", \"firm\", \"music\", \"film\", \"new\", \"could\", \"user\", \"one\", \"system\", \"software\", \"best\", \"company\", \"tv\", \"award\", \"government\", \"network\", \"use\", \"microsoft\", \"computer\", \"gadget\", \"uk\", \"dvd\", \"net\", \"tax\", \"election\", \"tory\", \"chancellor\", \"conservative\", \"mp\", \"debt\", \"yukos\", \"bankruptcy\", \"lib\", \"investor\", \"export\", \"liberal\", \"democrat\", \"reform\", \"shareholder\", \"economist\", \"kennedy\", \"immigration\", \"attorney\", \"argued\", \"chapter\", \"prosecutor\", \"wage\", \"dems\", \"blunkett\", \"inflation\", \"earnings\", \"jail\", \"inquiry\", \"labour\", \"blair\", \"economy\", \"economic\", \"secretary\", \"prime\", \"profit\", \"ruling\", \"minister\", \"lord\", \"party\", \"oil\", \"government\", \"brown\", \"health\", \"airline\", \"howard\", \"mr\", \"foreign\", \"investment\", \"\\u00e2\", \"policy\", \"leader\", \"law\", \"state\", \"plan\", \"u\", \"public\", \"bank\", \"country\", \"court\", \"claim\", \"share\", \"company\", \"000\", \"told\", \"say\", \"1\", \"month\", \"new\", \"market\", \"last\", \"could\", \"may\", \"sale\", \"people\", \"firm\", \"one\", \"uk\", \"time\", \"coach\", \"rugby\", \"oscar\", \"championship\", \"tournament\", \"squad\", \"award\", \"theatre\", \"actress\", \"chelsea\", \"bafta\", \"v\", \"nomination\", \"academy\", \"hero\", \"arsenal\", \"aviator\", \"lion\", \"slam\", \"referee\", \"league\", \"j\", \"roddick\", \"athletics\", \"athens\", \"striker\", \"holmes\", \"mourinho\", \"hollywood\", \"adventure\", \"ray\", \"champion\", \"cup\", \"injury\", \"star\", \"ceremony\", \"actor\", \"olympic\", \"match\", \"prize\", \"film\", \"best\", \"sport\", \"winner\", \"game\", \"team\", \"football\", \"season\", \"win\", \"title\", \"williams\", \"final\", \"side\", \"england\", \"play\", \"playing\", \"old\", \"player\", \"time\", \"dvd\", \"half\", \"like\", \"first\", \"six\", \"world\", \"one\", \"fan\", \"back\", \"two\", \"second\", \"well\", \"top\", \"last\", \"take\", \"new\", \"good\", \"three\", \"set\", \"ipod\", \"laptop\", \"broadcasting\", \"print\", \"recorder\", \"keyboard\", \"search\", \"gadget\", \"camera\", \"battery\", \"apple\", \"google\", \"interface\", \"engine\", \"mp3\", \"portable\", \"library\", \"photo\", \"pocket\", \"storage\", \"lifestyle\", \"handset\", \"creative\", \"audio\", \"broadcaster\", \"tv\", \"intel\", \"mini\", \"cd\", \"design\", \"broadcast\", \"digital\", \"device\", \"video\", \"music\", \"mobile\", \"phone\", \"technology\", \"watch\", \"medium\", \"content\", \"player\", \"people\", \"show\", \"pc\", \"use\", \"consumer\", \"user\", \"high\", \"information\", \"service\", \"could\", \"one\", \"like\", \"make\", \"way\", \"mr\", \"new\", \"many\", \"get\", \"market\", \"first\", \"bt\", \"fixed\", \"privacy\", \"broadband\", \"subscriber\", \"click\", \"access\", \"sun\", \"customer\", \"connection\", \"id\", \"provider\", \"lab\", \"survey\", \"ibm\", \"equivalent\", \"text\", \"identity\", \"3g\", \"supplier\", \"faster\", \"developing\", \"speed\", \"blog\", \"premium\", \"internet\", \"implication\", \"telephone\", \"document\", \"respond\", \"operator\", \"fast\", \"network\", \"service\", \"phone\", \"net\", \"mobile\", \"online\", \"data\", \"user\", \"call\", \"software\", \"computer\", \"system\", \"people\", \"use\", \"using\", \"card\", \"technology\", \"million\", \"uk\", \"information\", \"could\", \"one\", \"number\", \"company\", \"firm\", \"new\", \"report\", \"say\", \"virus\", \"malicious\", \"nintendo\", \"infected\", \"fake\", \"cell\", \"gamers\", \"playstation\", \"copy\", \"spam\", \"console\", \"xbox\", \"handheld\", \"machine\", \"file\", \"program\", \"window\", \"sharing\", \"francisco\", \"piracy\", \"copyright\", \"microsoft\", \"traffic\", \"mail\", \"legitimate\", \"sony\", \"server\", \"shut\", \"gaming\", \"san\", \"developer\", \"site\", \"software\", \"chip\", \"version\", \"e\", \"system\", \"network\", \"security\", \"game\", \"computer\", \"firm\", \"technology\", \"user\", \"attack\", \"new\", \"pc\", \"website\", \"people\", \"many\", \"mr\", \"dvd\", \"make\", \"could\", \"music\"], \"Freq\": [2411.0, 1815.0, 829.0, 2963.0, 861.0, 665.0, 780.0, 967.0, 951.0, 633.0, 1123.0, 1853.0, 1488.0, 544.0, 1921.0, 536.0, 447.0, 984.0, 1134.0, 392.0, 629.0, 1082.0, 417.0, 579.0, 322.0, 432.0, 296.0, 952.0, 556.0, 445.0, 481.4720458984375, 722.4847412109375, 417.2248229980469, 235.28994750976562, 218.71820068359375, 260.41278076171875, 198.6251220703125, 156.4360809326172, 150.1759796142578, 145.89279174804688, 142.255859375, 123.41249084472656, 164.9851837158203, 167.32347106933594, 117.32353210449219, 112.2061538696289, 103.52828979492188, 107.8017807006836, 128.82476806640625, 98.19762420654297, 95.61387634277344, 89.50762939453125, 90.37956237792969, 102.95084381103516, 79.1728286743164, 83.52261352539062, 75.78556060791016, 70.57987976074219, 74.68035125732422, 74.00723266601562, 667.7930908203125, 477.31640625, 391.28179931640625, 348.51556396484375, 273.6747741699219, 301.4278869628906, 251.74034118652344, 155.9212646484375, 660.1469116210938, 359.5087890625, 717.8180541992188, 258.599853515625, 1019.3846435546875, 368.6427307128906, 164.526611328125, 243.79774475097656, 289.77325439453125, 2401.6748046875, 343.13104248046875, 239.61642456054688, 1106.85546875, 269.4519348144531, 372.7535400390625, 501.8014831542969, 439.13531494140625, 532.9530029296875, 1344.0631103515625, 460.92596435546875, 381.6131591796875, 626.9841918945312, 372.44696044921875, 356.4229736328125, 391.2492370605469, 738.6304931640625, 544.5777587890625, 589.9728393554688, 679.5164794921875, 563.48193359375, 530.6974487304688, 741.355224609375, 490.0794372558594, 618.735107421875, 627.57275390625, 453.2969970703125, 438.6806945800781, 584.962158203125, 481.2483215332031, 557.4204711914062, 474.631103515625, 442.6417236328125, 183.61422729492188, 154.82420349121094, 151.0697021484375, 123.73564910888672, 120.60662078857422, 111.19561004638672, 626.4417114257812, 106.71196746826172, 118.5328369140625, 156.75209045410156, 88.92135620117188, 87.54046630859375, 103.66954040527344, 80.82557678222656, 75.58078002929688, 112.41471099853516, 70.5465087890625, 73.29426574707031, 70.53256225585938, 65.36808013916016, 189.1754913330078, 70.37965393066406, 85.72142028808594, 50.57695770263672, 81.40482330322266, 57.87614440917969, 54.13588333129883, 47.62483215332031, 176.92791748046875, 61.454978942871094, 339.04248046875, 213.83425903320312, 213.15411376953125, 203.2823486328125, 437.0439147949219, 123.19524383544922, 200.50912475585938, 120.0738525390625, 313.67388916015625, 211.13169860839844, 1012.3861083984375, 887.2793579101562, 293.105712890625, 193.95724487304688, 1940.7548828125, 473.6439514160156, 199.0151824951172, 207.52305603027344, 445.4570007324219, 400.740966796875, 153.05543518066406, 318.8540954589844, 310.2986145019531, 380.2813415527344, 454.3791198730469, 249.72035217285156, 387.8394470214844, 612.3397827148438, 879.668701171875, 392.5706481933594, 361.709716796875, 576.0508422851562, 643.2203369140625, 333.80816650390625, 630.8099365234375, 756.9110107421875, 257.0997009277344, 461.1135559082031, 550.9951171875, 379.46673583984375, 442.65625, 371.4975891113281, 563.872314453125, 418.4280090332031, 515.0560302734375, 369.5122985839844, 361.82891845703125, 346.9523010253906, 99.1302490234375, 45.95280075073242, 38.47700881958008, 46.53524398803711, 37.36697006225586, 32.168373107910156, 265.9000244140625, 282.9980773925781, 136.05328369140625, 39.513023376464844, 205.89447021484375, 130.97645568847656, 27.30076026916504, 93.41431427001953, 66.98576354980469, 122.21060943603516, 48.9207763671875, 74.72504425048828, 47.31135940551758, 68.94969940185547, 19.5107421875, 113.7890396118164, 40.38582992553711, 44.34169006347656, 35.48297119140625, 309.4637451171875, 41.410118103027344, 71.90570068359375, 22.933935165405273, 69.65091705322266, 52.254852294921875, 278.2073974609375, 208.51486206054688, 251.59552001953125, 377.2109375, 454.210693359375, 349.96923828125, 366.13140869140625, 84.22159576416016, 187.7918243408203, 140.91494750976562, 308.1371154785156, 437.70111083984375, 213.70925903320312, 137.0167999267578, 182.17666625976562, 152.81439208984375, 162.12042236328125, 174.59263610839844, 135.31756591796875, 188.78802490234375, 218.58628845214844, 237.3314208984375, 184.83773803710938, 182.3613739013672, 171.71548461914062, 222.6012420654297, 187.09329223632812, 154.60284423828125, 146.3026885986328, 145.40367126464844, 146.54661560058594, 125.57929229736328, 41.39720916748047, 19.768619537353516, 214.53126525878906, 27.336742401123047, 17.659656524658203, 196.79751586914062, 47.48772048950195, 140.14474487304688, 90.22933959960938, 41.33335876464844, 53.5802001953125, 35.705448150634766, 108.90941619873047, 62.64179229736328, 20.690841674804688, 78.66972351074219, 28.88698959350586, 90.96630859375, 20.221546173095703, 56.63036346435547, 36.98023986816406, 142.321044921875, 79.51526641845703, 19.153518676757812, 220.80902099609375, 11.424580574035645, 30.3029727935791, 61.135467529296875, 26.911603927612305, 88.24408721923828, 75.61178588867188, 215.99778747558594, 407.622314453125, 304.51983642578125, 212.1045684814453, 361.8880920410156, 210.61732482910156, 164.16943359375, 234.8826141357422, 143.31935119628906, 183.32089233398438, 176.4732666015625, 206.12017822265625, 494.55206298828125, 206.05335998535156, 143.45750427246094, 111.7153091430664, 233.55470275878906, 203.6053009033203, 223.41433715820312, 136.40403747558594, 253.03602600097656, 266.05535888671875, 177.00689697265625, 194.44992065429688, 181.32730102539062, 202.67161560058594, 143.03269958496094, 150.8492431640625, 212.4254913330078, 57.29503631591797, 103.03239440917969, 44.583126068115234, 39.451210021972656, 61.99211502075195, 69.26317596435547, 58.43303680419922, 86.58234405517578, 80.15731048583984, 128.9197998046875, 72.62296295166016, 53.101417541503906, 174.08364868164062, 190.09732055664062, 174.63937377929688, 132.83245849609375, 59.83648681640625, 23.914031982421875, 57.9422607421875, 15.317978858947754, 231.56748962402344, 57.61344909667969, 167.5948028564453, 26.88768768310547, 141.856201171875, 38.84089660644531, 24.905231475830078, 96.88235473632812, 56.30572509765625, 67.36616516113281, 178.28903198242188, 216.0879669189453, 76.89164733886719, 124.457275390625, 124.47784423828125, 183.9746551513672, 149.35006713867188, 129.1255645751953, 375.1524963378906, 137.877197265625, 195.81396484375, 174.11660766601562, 145.94439697265625, 92.11813354492188, 207.30572509765625, 108.59915161132812, 111.30406951904297, 166.08248901367188, 132.331787109375, 169.1504364013672, 116.962890625, 118.61579895019531, 117.28219604492188, 110.4503173828125], \"Total\": [2411.0, 1815.0, 829.0, 2963.0, 861.0, 665.0, 780.0, 967.0, 951.0, 633.0, 1123.0, 1853.0, 1488.0, 544.0, 1921.0, 536.0, 447.0, 984.0, 1134.0, 392.0, 629.0, 1082.0, 417.0, 579.0, 322.0, 432.0, 296.0, 952.0, 556.0, 445.0, 482.04400634765625, 723.4365844726562, 417.84344482421875, 235.85609436035156, 219.3372039794922, 261.1827087402344, 199.21839904785156, 156.9716796875, 150.72811889648438, 146.4625701904297, 142.85501098632812, 123.96527099609375, 165.7252960205078, 168.11529541015625, 117.8810043334961, 112.74744415283203, 104.06805419921875, 108.37812805175781, 129.51849365234375, 98.74165344238281, 96.18609619140625, 90.05433654785156, 90.9344253540039, 103.60551452636719, 79.7294921875, 84.1129150390625, 76.32267761230469, 71.12158203125, 75.25701141357422, 74.58484649658203, 673.9434204101562, 481.4163818359375, 394.47320556640625, 352.0582580566406, 276.2564392089844, 304.82452392578125, 255.4425048828125, 157.67037963867188, 680.7514038085938, 367.1683044433594, 743.8607177734375, 263.8873291015625, 1082.212890625, 385.5972595214844, 167.58370971679688, 253.10191345214844, 306.6080627441406, 2963.60986328125, 369.4909973144531, 251.09242248535156, 1351.8773193359375, 286.80621337890625, 412.3433837890625, 580.6885986328125, 499.7593688964844, 622.8745727539062, 1965.8096923828125, 554.3812866210938, 439.2398681640625, 814.293212890625, 428.9851989746094, 410.89276123046875, 467.4287414550781, 1134.043701171875, 782.6868896484375, 925.6343994140625, 1214.788818359375, 893.914794921875, 871.047607421875, 1853.48193359375, 782.9103393554688, 1370.89306640625, 1488.0330810546875, 679.5255737304688, 624.9532470703125, 1815.702880859375, 951.6962890625, 1921.3472900390625, 952.5498046875, 1672.789794921875, 184.2891082763672, 155.44361877441406, 151.75973510742188, 124.37791442871094, 121.25130462646484, 111.80330657958984, 629.8768920898438, 107.31195831298828, 119.22296905517578, 157.6949462890625, 89.52432250976562, 88.14680480957031, 104.4460678100586, 81.44347381591797, 76.19319915771484, 113.34196472167969, 71.14983367919922, 73.92686462402344, 71.1447525024414, 65.97110748291016, 191.0222625732422, 71.17045593261719, 86.70467376708984, 51.1798210144043, 82.38445281982422, 58.59367370605469, 54.809268951416016, 48.227664947509766, 179.17916870117188, 62.238182067871094, 343.5804748535156, 217.1941680908203, 216.6771697998047, 206.86849975585938, 448.6529235839844, 125.26611328125, 205.56288146972656, 122.36721801757812, 328.4112243652344, 219.0379638671875, 1123.5692138671875, 984.3131103515625, 314.38201904296875, 204.44891357421875, 2411.45556640625, 534.6215209960938, 211.4265594482422, 221.9207763671875, 534.2493896484375, 474.71923828125, 161.72792053222656, 380.54302978515625, 369.8193359375, 474.3958740234375, 611.4718627929688, 297.8818359375, 530.0955810546875, 967.8056030273438, 1672.789794921875, 556.86279296875, 510.2936706542969, 1057.76416015625, 1250.7249755859375, 464.8150329589844, 1288.3868408203125, 1921.3472900390625, 312.82147216796875, 851.6273803710938, 1194.35400390625, 631.2952880859375, 840.3827514648438, 613.6578369140625, 1370.89306640625, 865.293212890625, 1853.48193359375, 668.971923828125, 784.4639282226562, 776.9055786132812, 100.05072784423828, 46.85457992553711, 39.45818328857422, 47.723358154296875, 38.394222259521484, 33.082618713378906, 276.271484375, 296.4945983886719, 143.89834594726562, 42.11543655395508, 219.98410034179688, 139.99252319335938, 29.620145797729492, 101.45714569091797, 73.55537414550781, 136.9435577392578, 55.10334014892578, 84.38724517822266, 55.94234848022461, 83.6487808227539, 23.73957633972168, 139.117919921875, 50.18748092651367, 55.7581901550293, 44.936363220214844, 392.3984375, 52.7414436340332, 92.12265014648438, 29.612489700317383, 90.1764907836914, 68.85962677001953, 387.2458190917969, 317.1919860839844, 391.7964172363281, 633.1032104492188, 829.6879272460938, 665.0064697265625, 780.59326171875, 123.34009552001953, 377.87603759765625, 259.4246826171875, 967.8056030273438, 1815.702880859375, 583.6712036132812, 341.2148132324219, 579.2467041015625, 419.94061279296875, 544.1876220703125, 648.0776977539062, 371.0289306640625, 861.7022094726562, 1488.0330810546875, 1921.3472900390625, 1057.76416015625, 1067.8726806640625, 900.6566772460938, 2963.60986328125, 1853.48193359375, 812.0455322265625, 879.9039306640625, 782.9103393554688, 1250.7249755859375, 130.7149200439453, 50.101226806640625, 24.249971389770508, 268.8795471191406, 34.6427116394043, 22.3953914642334, 257.7523193359375, 62.975955963134766, 187.94703674316406, 121.49014282226562, 57.22447967529297, 75.21822357177734, 50.27342224121094, 157.09893798828125, 90.48805236816406, 29.891908645629883, 114.200927734375, 42.14174270629883, 140.6157989501953, 31.409320831298828, 88.13677215576172, 58.073055267333984, 225.65509033203125, 126.21565246582031, 30.692615509033203, 357.5477600097656, 18.881284713745117, 50.54182815551758, 102.70266723632812, 45.423648834228516, 156.81285095214844, 135.22503662109375, 417.0043029785156, 861.7022094726562, 665.0064697265625, 445.3567199707031, 829.6879272460938, 443.848876953125, 334.6810607910156, 544.1876220703125, 305.9468994140625, 447.8244323730469, 432.919677734375, 536.3216552734375, 1815.702880859375, 579.2467041015625, 353.1803894042969, 240.58815002441406, 780.59326171875, 632.1016845703125, 952.5498046875, 371.0289306640625, 1488.0330810546875, 1921.3472900390625, 855.0636596679688, 1134.043701171875, 951.6962890625, 1853.48193359375, 542.475830078125, 1214.788818359375, 216.14271545410156, 59.068302154541016, 108.85614013671875, 47.469482421875, 43.4345588684082, 70.34654235839844, 78.8750228881836, 67.9345474243164, 100.72671508789062, 93.34349060058594, 151.0120391845703, 85.45907592773438, 62.755393981933594, 214.45135498046875, 234.35498046875, 215.78387451171875, 165.29742431640625, 74.62043762207031, 30.603132247924805, 75.49038696289062, 21.255050659179688, 322.46893310546875, 82.07275390625, 248.282958984375, 41.97931671142578, 221.7535858154297, 61.92980194091797, 40.8210334777832, 159.29739379882812, 93.57705688476562, 115.78677368164062, 342.02227783203125, 447.8244323730469, 138.13967895507812, 257.7324523925781, 259.5224304199219, 536.3216552734375, 417.0043029785156, 347.1763610839844, 2411.45556640625, 432.919677734375, 951.6962890625, 780.59326171875, 544.1876220703125, 207.54945373535156, 1853.48193359375, 341.2148132324219, 406.5779724121094, 1815.702880859375, 812.0455322265625, 2963.60986328125, 556.86279296875, 1067.8726806640625, 1488.0330810546875, 633.1032104492188], \"Category\": [\"Default\", \"Default\", \"Default\", \"Default\", \"Default\", \"Default\", \"Default\", \"Default\", \"Default\", \"Default\", \"Default\", \"Default\", \"Default\", \"Default\", \"Default\", \"Default\", \"Default\", \"Default\", \"Default\", \"Default\", \"Default\", \"Default\", \"Default\", \"Default\", \"Default\", \"Default\", \"Default\", \"Default\", \"Default\", \"Default\", \"Topic1\", \"Topic1\", \"Topic1\", \"Topic1\", \"Topic1\", \"Topic1\", \"Topic1\", \"Topic1\", \"Topic1\", \"Topic1\", \"Topic1\", \"Topic1\", \"Topic1\", \"Topic1\", \"Topic1\", \"Topic1\", \"Topic1\", \"Topic1\", \"Topic1\", \"Topic1\", \"Topic1\", \"Topic1\", \"Topic1\", \"Topic1\", \"Topic1\", \"Topic1\", \"Topic1\", \"Topic1\", \"Topic1\", \"Topic1\", \"Topic1\", \"Topic1\", \"Topic1\", \"Topic1\", \"Topic1\", \"Topic1\", \"Topic1\", \"Topic1\", \"Topic1\", \"Topic1\", \"Topic1\", \"Topic1\", \"Topic1\", \"Topic1\", \"Topic1\", \"Topic1\", \"Topic1\", \"Topic1\", \"Topic1\", \"Topic1\", \"Topic1\", \"Topic1\", \"Topic1\", \"Topic1\", \"Topic1\", \"Topic1\", \"Topic1\", \"Topic1\", \"Topic1\", \"Topic1\", \"Topic1\", \"Topic1\", \"Topic1\", \"Topic1\", \"Topic1\", \"Topic1\", \"Topic1\", \"Topic1\", \"Topic1\", \"Topic1\", \"Topic1\", \"Topic1\", \"Topic1\", \"Topic1\", \"Topic1\", \"Topic1\", \"Topic1\", \"Topic1\", \"Topic1\", \"Topic1\", \"Topic2\", \"Topic2\", \"Topic2\", \"Topic2\", \"Topic2\", \"Topic2\", \"Topic2\", \"Topic2\", \"Topic2\", \"Topic2\", \"Topic2\", \"Topic2\", \"Topic2\", \"Topic2\", \"Topic2\", \"Topic2\", \"Topic2\", \"Topic2\", \"Topic2\", \"Topic2\", \"Topic2\", \"Topic2\", \"Topic2\", \"Topic2\", \"Topic2\", \"Topic2\", \"Topic2\", \"Topic2\", \"Topic2\", \"Topic2\", \"Topic2\", \"Topic2\", \"Topic2\", \"Topic2\", \"Topic2\", \"Topic2\", \"Topic2\", \"Topic2\", \"Topic2\", \"Topic2\", \"Topic2\", \"Topic2\", \"Topic2\", \"Topic2\", \"Topic2\", \"Topic2\", \"Topic2\", \"Topic2\", \"Topic2\", \"Topic2\", \"Topic2\", \"Topic2\", \"Topic2\", \"Topic2\", \"Topic2\", \"Topic2\", \"Topic2\", \"Topic2\", \"Topic2\", \"Topic2\", \"Topic2\", \"Topic2\", \"Topic2\", \"Topic2\", \"Topic2\", \"Topic2\", \"Topic2\", \"Topic2\", \"Topic2\", \"Topic2\", \"Topic2\", \"Topic2\", \"Topic2\", \"Topic2\", \"Topic2\", \"Topic2\", \"Topic2\", \"Topic2\", \"Topic3\", \"Topic3\", \"Topic3\", \"Topic3\", \"Topic3\", \"Topic3\", \"Topic3\", \"Topic3\", \"Topic3\", \"Topic3\", \"Topic3\", \"Topic3\", \"Topic3\", \"Topic3\", \"Topic3\", \"Topic3\", \"Topic3\", \"Topic3\", \"Topic3\", \"Topic3\", \"Topic3\", \"Topic3\", \"Topic3\", \"Topic3\", \"Topic3\", \"Topic3\", \"Topic3\", \"Topic3\", \"Topic3\", \"Topic3\", \"Topic3\", \"Topic3\", \"Topic3\", \"Topic3\", \"Topic3\", \"Topic3\", \"Topic3\", \"Topic3\", \"Topic3\", \"Topic3\", \"Topic3\", \"Topic3\", \"Topic3\", \"Topic3\", \"Topic3\", \"Topic3\", \"Topic3\", \"Topic3\", \"Topic3\", \"Topic3\", \"Topic3\", \"Topic3\", \"Topic3\", \"Topic3\", \"Topic3\", \"Topic3\", \"Topic3\", \"Topic3\", \"Topic3\", \"Topic3\", \"Topic3\", \"Topic3\", \"Topic4\", \"Topic4\", \"Topic4\", \"Topic4\", \"Topic4\", \"Topic4\", \"Topic4\", \"Topic4\", \"Topic4\", \"Topic4\", \"Topic4\", \"Topic4\", \"Topic4\", \"Topic4\", \"Topic4\", \"Topic4\", \"Topic4\", \"Topic4\", \"Topic4\", \"Topic4\", \"Topic4\", \"Topic4\", \"Topic4\", \"Topic4\", \"Topic4\", \"Topic4\", \"Topic4\", \"Topic4\", \"Topic4\", \"Topic4\", \"Topic4\", \"Topic4\", \"Topic4\", \"Topic4\", \"Topic4\", \"Topic4\", \"Topic4\", \"Topic4\", \"Topic4\", \"Topic4\", \"Topic4\", \"Topic4\", \"Topic4\", \"Topic4\", \"Topic4\", \"Topic4\", \"Topic4\", \"Topic4\", \"Topic4\", \"Topic4\", \"Topic4\", \"Topic4\", \"Topic4\", \"Topic4\", \"Topic4\", \"Topic4\", \"Topic4\", \"Topic4\", \"Topic4\", \"Topic4\", \"Topic5\", \"Topic5\", \"Topic5\", \"Topic5\", \"Topic5\", \"Topic5\", \"Topic5\", \"Topic5\", \"Topic5\", \"Topic5\", \"Topic5\", \"Topic5\", \"Topic5\", \"Topic5\", \"Topic5\", \"Topic5\", \"Topic5\", \"Topic5\", \"Topic5\", \"Topic5\", \"Topic5\", \"Topic5\", \"Topic5\", \"Topic5\", \"Topic5\", \"Topic5\", \"Topic5\", \"Topic5\", \"Topic5\", \"Topic5\", \"Topic5\", \"Topic5\", \"Topic5\", \"Topic5\", \"Topic5\", \"Topic5\", \"Topic5\", \"Topic5\", \"Topic5\", \"Topic5\", \"Topic5\", \"Topic5\", \"Topic5\", \"Topic5\", \"Topic5\", \"Topic5\", \"Topic5\", \"Topic5\", \"Topic5\", \"Topic5\", \"Topic5\", \"Topic5\", \"Topic5\", \"Topic5\", \"Topic5\"], \"logprob\": [30.0, 29.0, 28.0, 27.0, 26.0, 25.0, 24.0, 23.0, 22.0, 21.0, 20.0, 19.0, 18.0, 17.0, 16.0, 15.0, 14.0, 13.0, 12.0, 11.0, 10.0, 9.0, 8.0, 7.0, 6.0, 5.0, 4.0, 3.0, 2.0, 1.0, -5.84060001373291, -5.434800148010254, -5.98390007019043, -6.556700229644775, -6.629700183868408, -6.4552001953125, -6.726099967956543, -6.964799880981445, -7.00570011138916, -7.034599781036377, -7.059899806976318, -7.202000141143799, -6.911600112915039, -6.897600173950195, -7.252600193023682, -7.2972002029418945, -7.377600193023682, -7.337200164794922, -7.158999919891357, -7.430500030517578, -7.457200050354004, -7.523200035095215, -7.513500213623047, -7.383200168609619, -7.645899772644043, -7.592400074005127, -7.689599990844727, -7.760700225830078, -7.7042999267578125, -7.7133002281188965, -5.513500213623047, -5.849299907684326, -6.048099994659424, -6.16379976272583, -6.405600070953369, -6.309000015258789, -6.489099979400635, -6.968100070953369, -5.525000095367432, -6.132800102233887, -5.441299915313721, -6.462200164794922, -5.0904998779296875, -6.107699871063232, -6.914400100708008, -6.521200180053711, -6.348400115966797, -4.23360013961792, -6.1793999671936035, -6.53849983215332, -5.008200168609619, -6.42110013961792, -6.09660005569458, -5.799300193786621, -5.932700157165527, -5.739099979400635, -4.814000129699707, -5.884300231933594, -6.0731000900268555, -5.576600074768066, -6.097400188446045, -6.14139986038208, -6.048099994659424, -5.412700176239014, -5.71750020980835, -5.637400150299072, -5.496099948883057, -5.6834001541137695, -5.743299961090088, -5.408999919891357, -5.82289981842041, -5.589799880981445, -5.5756001472473145, -5.900899887084961, -5.933700084686279, -5.645899772644043, -5.841100215911865, -5.694200038909912, -5.855000019073486, -5.924699783325195, -6.440999984741211, -6.611499786376953, -6.636099815368652, -6.835700035095215, -6.861299991607666, -6.942500114440918, -5.213799953460693, -6.983699798583984, -6.878600120544434, -6.5991997718811035, -7.166100025177002, -7.181700229644775, -7.012599945068359, -7.261499881744385, -7.32859992980957, -6.931600093841553, -7.397600173950195, -7.359399795532227, -7.397799968719482, -7.473800182342529, -6.411200046539307, -7.399899959564209, -7.202700138092041, -7.730299949645996, -7.25439977645874, -7.5954999923706055, -7.662300109863281, -7.790500164031982, -6.478099822998047, -7.5355000495910645, -5.827700138092041, -6.288599967956543, -6.291800022125244, -6.339200019836426, -5.573800086975098, -6.840099811553955, -6.353000164031982, -6.865699768066406, -5.9054999351501465, -6.301400184631348, -4.733799934387207, -4.865699768066406, -5.973299980163574, -6.386199951171875, -4.083000183105469, -5.4934000968933105, -6.360499858856201, -6.318600177764893, -5.554699897766113, -5.6605000495910645, -6.623000144958496, -5.889100074768066, -5.916299819946289, -5.712900161743164, -5.534900188446045, -6.133500099182129, -5.69320011138916, -5.236599922180176, -4.874300003051758, -5.681099891662598, -5.763000011444092, -5.297599792480469, -5.187399864196777, -5.843299865722656, -5.2067999839782715, -5.024600028991699, -6.104400157928467, -5.520199775695801, -5.342100143432617, -5.715099811553955, -5.560999870300293, -5.736299991607666, -5.318999767303467, -5.617300033569336, -5.409599781036377, -5.741700172424316, -5.762700080871582, -5.804699897766113, -5.943999767303467, -6.712800025939941, -6.8902997970581055, -6.700200080871582, -6.919600009918213, -7.069399833679199, -4.957300186157227, -4.894999980926514, -5.627399921417236, -6.863800048828125, -5.2129998207092285, -5.66540002822876, -7.233500003814697, -6.003399848937988, -6.335899829864502, -5.7347002029418945, -6.650199890136719, -6.226600170135498, -6.683599948883057, -6.307000160217285, -7.569399833679199, -5.806099891662598, -6.841899871826172, -6.748499870300293, -6.97130012512207, -4.805600166320801, -6.81689977645874, -6.264999866485596, -7.407800197601318, -6.296899795532227, -6.5843000411987305, -4.9120001792907715, -5.200399875640869, -5.012599945068359, -4.607600212097168, -4.421800136566162, -4.682600021362305, -4.637400150299072, -6.106900215148926, -5.305099964141846, -5.592199802398682, -4.809899806976318, -4.458899974822998, -5.17579984664917, -5.620299816131592, -5.335400104522705, -5.511199951171875, -5.452099800109863, -5.377900123596191, -5.632800102233887, -5.299799919128418, -5.153200149536133, -5.070899963378906, -5.320899963378906, -5.334400177001953, -5.394599914550781, -5.135000228881836, -5.308800220489502, -5.499499797821045, -5.554699897766113, -5.5609002113342285, -5.553100109100342, -5.584000110626221, -6.693699836730957, -7.432799816131592, -5.048500061035156, -7.108699798583984, -7.5457000732421875, -5.134799957275391, -6.55649995803833, -5.474299907684326, -5.914599895477295, -6.695300102233887, -6.435800075531006, -6.841599941253662, -5.726399898529053, -6.2795000076293945, -7.38730001449585, -6.051700115203857, -7.053599834442139, -5.906499862670898, -7.410200119018555, -6.38040018081665, -6.806600093841553, -5.458899974822998, -6.040999889373779, -7.4644999504089355, -5.019599914550781, -7.981200218200684, -7.00570011138916, -6.303899765014648, -7.1244001388549805, -5.936800003051758, -6.091300010681152, -5.0416998863220215, -4.406599998474121, -4.698200225830078, -5.059899806976318, -4.525599956512451, -5.06689977645874, -5.315999984741211, -4.957900047302246, -5.451900005340576, -5.205699920654297, -5.243800163269043, -5.088500022888184, -4.2133002281188965, -5.088799953460693, -5.450900077819824, -5.701000213623047, -4.963500022888184, -5.100800037384033, -5.007900238037109, -5.501299858093262, -4.883399963378906, -4.833199977874756, -5.240799903869629, -5.1468000411987305, -5.216599941253662, -5.105400085449219, -5.45389986038208, -5.400700092315674, -4.8094000816345215, -6.119800090789795, -5.532899856567383, -6.37060022354126, -6.4928998947143555, -6.040999889373779, -5.930099964141846, -6.100100040435791, -5.706900119781494, -5.783999919891357, -5.308800220489502, -5.882699966430664, -6.195799827575684, -5.008399963378906, -4.920400142669678, -5.005199909210205, -5.278900146484375, -6.076399803161621, -6.993500232696533, -6.108500003814697, -7.438899993896484, -4.723100185394287, -6.114200115203857, -5.04640007019043, -6.876299858093262, -5.213200092315674, -6.508500099182129, -6.952899932861328, -5.5945000648498535, -6.137199878692627, -5.957799911499023, -4.984600067138672, -4.792300224304199, -5.8256001472473145, -5.343999862670898, -5.343800067901611, -4.953199863433838, -5.1616997718811035, -5.307199954986572, -4.240600109100342, -5.241600036621094, -4.8907999992370605, -5.008200168609619, -5.184700012207031, -5.644899845123291, -4.833799839019775, -5.480299949645996, -5.455699920654297, -5.055500030517578, -5.282700061798096, -5.037199974060059, -5.406099796295166, -5.392099857330322, -5.40339994430542, -5.463399887084961], \"loglift\": [30.0, 29.0, 28.0, 27.0, 26.0, 25.0, 24.0, 23.0, 22.0, 21.0, 20.0, 19.0, 18.0, 17.0, 16.0, 15.0, 14.0, 13.0, 12.0, 11.0, 10.0, 9.0, 8.0, 7.0, 6.0, 5.0, 4.0, 3.0, 2.0, 1.0, 0.8241000175476074, 0.8240000009536743, 0.8238000273704529, 0.8228999972343445, 0.8224999904632568, 0.8223000168800354, 0.8223000168800354, 0.8219000101089478, 0.8216000199317932, 0.821399986743927, 0.8210999965667725, 0.8208000063896179, 0.8208000063896179, 0.8205999732017517, 0.8205000162124634, 0.8205000162124634, 0.8201000094413757, 0.8199999928474426, 0.8198999762535095, 0.8198000192642212, 0.8192999958992004, 0.8191999793052673, 0.8191999793052673, 0.8188999891281128, 0.8183000087738037, 0.8181999921798706, 0.8181999921798706, 0.8176000118255615, 0.8176000118255615, 0.8174999952316284, 0.816100001335144, 0.8166999816894531, 0.8172000050544739, 0.8151999711990356, 0.8159000277519226, 0.8141000270843506, 0.810699999332428, 0.8141000270843506, 0.7946000099182129, 0.8041999936103821, 0.7896000146865845, 0.8050000071525574, 0.765500009059906, 0.7803000211715698, 0.8069000244140625, 0.7878000140190125, 0.7688000202178955, 0.6150000095367432, 0.7512999773025513, 0.7785000205039978, 0.6252999901771545, 0.7628999948501587, 0.7243000268936157, 0.6793000102043152, 0.6959999799728394, 0.6693999767303467, 0.44510000944137573, 0.6406999826431274, 0.6845999956130981, 0.5638999938964844, 0.6840000152587891, 0.6830999851226807, 0.6474000215530396, 0.39649999141693115, 0.4625999927520752, 0.3749000132083893, 0.2442999929189682, 0.3637999892234802, 0.329800009727478, -0.09109999984502792, 0.35679998993873596, 0.02969999983906746, -0.038100000470876694, 0.4203999936580658, 0.4713999927043915, -0.3073999881744385, 0.14339999854564667, -0.412200003862381, 0.12870000302791595, -0.5041999816894531, 1.1852999925613403, 1.1849000453948975, 1.184399962425232, 1.1837999820709229, 1.1835999488830566, 1.183500051498413, 1.183500051498413, 1.1833000183105469, 1.1830999851226807, 1.1828999519348145, 1.1821999549865723, 1.1820000410079956, 1.18149995803833, 1.1813000440597534, 1.180899977684021, 1.1806999444961548, 1.180400013923645, 1.180299997329712, 1.180299997329712, 1.179800033569336, 1.1792000532150269, 1.1778000593185425, 1.1775000095367432, 1.1770999431610107, 1.1770000457763672, 1.1765999794006348, 1.1765999794006348, 1.1763999462127686, 1.176300048828125, 1.176300048828125, 1.1756000518798828, 1.17330002784729, 1.1725000143051147, 1.1714999675750732, 1.1627000570297241, 1.1722999811172485, 1.1640000343322754, 1.1699999570846558, 1.1430000066757202, 1.1521999835968018, 1.0846999883651733, 1.0851999521255493, 1.118899941444397, 1.136299967765808, 0.9718000292778015, 1.0678000450134277, 1.1283999681472778, 1.121899962425232, 1.007200002670288, 1.0195000171661377, 1.1338000297546387, 1.0120999813079834, 1.0134999752044678, 0.9678000211715698, 0.8920000195503235, 1.0125999450683594, 0.8765000104904175, 0.7311999797821045, 0.5461999773979187, 0.8392999768257141, 0.8447999954223633, 0.5812000036239624, 0.5238999724388123, 0.8579000234603882, 0.4747999906539917, 0.2574000060558319, 0.9927999973297119, 0.5753999948501587, 0.41530001163482666, 0.6798999905586243, 0.5479000210762024, 0.6869999766349792, 0.3005000054836273, 0.46239998936653137, -0.09160000085830688, 0.5953999757766724, 0.41510000824928284, 0.38280001282691956, 2.293100118637085, 2.282900094985962, 2.2771999835968018, 2.2771999835968018, 2.2753000259399414, 2.274399995803833, 2.2641000747680664, 2.2558000087738037, 2.246299982070923, 2.238600015640259, 2.2362000942230225, 2.23580002784729, 2.2207999229431152, 2.2197999954223633, 2.2088000774383545, 2.1886000633239746, 2.1833999156951904, 2.180799961090088, 2.1347999572753906, 2.109100103378296, 2.1061999797821045, 2.1013998985290527, 2.085099935531616, 2.0732998847961426, 2.066200017929077, 2.0648999214172363, 2.060499906539917, 2.0546000003814697, 2.046799898147583, 2.044100046157837, 2.026400089263916, 1.9716999530792236, 1.8828999996185303, 1.8595000505447388, 1.784500002861023, 1.6999000310897827, 1.6604000329971313, 1.545300006866455, 1.9208999872207642, 1.6030999422073364, 1.6921000480651855, 1.1578999757766724, 0.8797000050544739, 1.297700047492981, 1.3899999856948853, 1.1455999612808228, 1.2914999723434448, 1.0914000272750854, 0.9908000230789185, 1.2936999797821045, 0.7840999960899353, 0.38429999351501465, 0.2110999971628189, 0.5579000115394592, 0.5349000096321106, 0.6450999975204468, -0.2863999903202057, 0.009200000204145908, 0.6437000036239624, 0.5081999897956848, 0.6189000010490417, 0.1581999957561493, 2.3857998847961426, 2.234999895095825, 2.2214999198913574, 2.200000047683716, 2.188999891281128, 2.1882998943328857, 2.1559998989105225, 2.1435999870300293, 2.1322999000549316, 2.1284000873565674, 2.1005001068115234, 2.0866000652313232, 2.083699941635132, 2.059499979019165, 2.058000087738037, 2.0578999519348145, 2.053100109100342, 2.0481998920440674, 1.9903000593185425, 1.9854999780654907, 1.9835000038146973, 1.9744999408721924, 1.964900016784668, 1.9637999534606934, 1.954300045967102, 1.9438999891281128, 1.9234000444412231, 1.9142999649047852, 1.907099962234497, 1.902400016784668, 1.8509000539779663, 1.844499945640564, 1.7680000066757202, 1.677299976348877, 1.6447999477386475, 1.684000015258789, 1.5960999727249146, 1.680400013923645, 1.7136000394821167, 1.5856000185012817, 1.6675000190734863, 1.5326999425888062, 1.52839994430542, 1.469599962234497, 1.1253000497817993, 1.392199993133545, 1.524899959564209, 1.6586999893188477, 1.2192000150680542, 1.2929999828338623, 0.9757000207901001, 1.4251999855041504, 0.65420001745224, 0.4487999975681305, 0.8507999777793884, 0.6625000238418579, 0.7678999900817871, 0.2125999927520752, 1.0928000211715698, 0.33980000019073486, 2.6575000286102295, 2.6442999839782715, 2.619800090789795, 2.6120998859405518, 2.5785999298095703, 2.5483999252319336, 2.5448999404907227, 2.5241000652313232, 2.5234999656677246, 2.5225000381469727, 2.5165998935699463, 2.51200008392334, 2.5078001022338867, 2.4663000106811523, 2.4655001163482666, 2.4632999897003174, 2.4560999870300293, 2.4539999961853027, 2.4282000064849854, 2.4102001190185547, 2.3471999168395996, 2.3436999320983887, 2.321000099182129, 2.2818000316619873, 2.229300022125244, 2.228100061416626, 2.2083001136779785, 2.1807000637054443, 2.177500009536743, 2.166800022125244, 2.13319993019104, 2.0232999324798584, 1.9460999965667725, 2.088900089263916, 1.9467999935150146, 1.9400999546051025, 1.6049000024795532, 1.6480000019073486, 1.6857999563217163, 0.8141999840736389, 1.5305999517440796, 1.0937000513076782, 1.1744999885559082, 1.3587000370025635, 1.8624999523162842, 0.48420000076293945, 1.5299999713897705, 1.3792999982833862, 0.2831000089645386, 0.8605999946594238, -0.18860000371932983, 1.114300012588501, 0.4772999882698059, 0.13420000672340393, 0.9286999702453613]}, \"token.table\": {\"Topic\": [1, 2, 3, 4, 5, 1, 2, 3, 4, 5, 3, 4, 2, 1, 3, 4, 5, 1, 2, 3, 5, 2, 2, 1, 4, 3, 5, 1, 1, 2, 2, 2, 1, 2, 4, 5, 1, 2, 3, 2, 1, 2, 3, 1, 2, 3, 4, 5, 2, 1, 4, 5, 1, 1, 3, 1, 2, 3, 5, 1, 2, 3, 4, 1, 3, 4, 5, 1, 2, 3, 4, 1, 2, 3, 3, 1, 2, 3, 4, 5, 1, 2, 3, 4, 5, 2, 3, 4, 1, 2, 3, 4, 5, 2, 3, 4, 5, 4, 5, 1, 2, 1, 2, 2, 1, 1, 1, 2, 2, 3, 4, 5, 1, 2, 3, 4, 5, 2, 4, 5, 2, 1, 2, 3, 4, 5, 1, 2, 3, 4, 5, 1, 3, 4, 5, 1, 2, 3, 5, 1, 3, 4, 5, 1, 2, 3, 4, 5, 1, 2, 5, 1, 3, 5, 1, 2, 3, 4, 5, 1, 2, 3, 4, 5, 1, 2, 3, 4, 5, 2, 3, 4, 1, 2, 3, 1, 3, 4, 5, 1, 2, 3, 4, 5, 1, 1, 1, 2, 3, 4, 5, 2, 3, 4, 5, 1, 2, 3, 4, 5, 3, 4, 5, 2, 3, 4, 5, 1, 3, 4, 2, 3, 5, 1, 2, 3, 4, 5, 1, 1, 4, 1, 1, 4, 1, 1, 2, 3, 5, 1, 2, 5, 1, 2, 3, 4, 1, 1, 4, 5, 1, 2, 3, 5, 1, 2, 3, 4, 5, 1, 2, 3, 4, 5, 1, 2, 3, 4, 5, 1, 2, 3, 4, 5, 1, 2, 3, 4, 5, 1, 2, 3, 4, 5, 1, 2, 3, 4, 5, 1, 4, 1, 2, 3, 1, 2, 3, 4, 1, 2, 3, 5, 3, 4, 5, 1, 2, 3, 5, 2, 5, 2, 3, 4, 5, 1, 2, 3, 4, 5, 1, 2, 3, 4, 5, 3, 5, 1, 2, 4, 1, 2, 3, 4, 5, 3, 5, 3, 4, 1, 2, 2, 1, 2, 3, 4, 5, 2, 5, 2, 1, 2, 4, 5, 1, 4, 1, 4, 5, 1, 1, 3, 4, 1, 5, 1, 1, 2, 3, 4, 5, 1, 2, 1, 3, 5, 2, 3, 1, 3, 4, 5, 1, 3, 4, 5, 1, 3, 1, 2, 1, 1, 3, 3, 4, 5, 1, 2, 4, 3, 1, 2, 3, 4, 5, 1, 2, 4, 5, 1, 2, 3, 4, 5, 1, 2, 1, 3, 4, 5, 1, 1, 2, 3, 4, 5, 3, 5, 1, 2, 3, 4, 5, 2, 1, 2, 4, 5, 1, 2, 3, 4, 5, 1, 3, 4, 5, 1, 2, 3, 4, 5, 1, 5, 1, 2, 3, 4, 5, 1, 2, 3, 4, 5, 1, 2, 3, 1, 2, 3, 4, 5, 1, 2, 3, 4, 5, 1, 3, 4, 5, 1, 2, 3, 4, 5, 1, 2, 3, 5, 1, 2, 4, 3, 4, 5, 1, 2, 3, 4, 5, 2, 1, 3, 5, 1, 2, 3, 4, 5, 1, 2, 3, 4, 5, 1, 2, 3, 4, 5, 1, 2, 3, 4, 5, 1, 2, 3, 4, 5, 3, 5, 1, 2, 1, 2, 3, 4, 5, 1, 4, 1, 2, 3, 4, 5, 1, 2, 1, 2, 3, 4, 5, 1, 2, 3, 4, 5, 1, 3, 4, 5, 2, 1, 2, 3, 4, 5, 1, 2, 3, 4, 5, 1, 2, 3, 4, 5, 1, 3, 4, 5, 2, 3, 5, 1, 2, 4, 5, 1, 2, 3, 4, 5, 1, 2, 3, 4, 5, 1, 2, 3, 4, 5, 1, 2, 3, 4, 5, 2, 3, 5, 1, 3, 4, 1, 4, 3, 5, 1, 2, 3, 4, 1, 4, 2, 3, 3, 4, 1, 2, 3, 1, 4, 1, 3, 4, 5, 1, 3, 4, 1, 2, 3, 4, 5, 1, 2, 5, 3, 2, 1, 1, 2, 3, 4, 5, 1, 2, 4, 1, 2, 2, 1, 2, 3, 1, 2, 3, 4, 5, 1, 2, 3, 5, 1, 2, 3, 4, 5, 2, 3, 5, 1, 2, 3, 4, 1, 2, 3, 4, 5, 1, 2, 1, 3, 4, 5, 4, 5, 1, 2, 3, 4, 5, 1, 2, 3, 4, 5, 1, 2, 3, 4, 5, 1, 1, 3, 4, 5, 1, 2, 3, 4, 5, 1, 2, 5, 1, 2, 3, 5, 1, 3, 4, 5, 1, 2, 3, 4, 5, 2, 1, 3, 4, 5, 2, 3, 5, 1, 4, 5, 1, 2, 3, 4, 5, 1, 2, 3, 4, 2, 1, 2, 3, 4, 1, 2, 3, 4, 5, 3, 4, 5, 1, 2, 1, 3, 4, 2, 3, 4, 1, 4, 5, 1, 3, 4, 5, 1, 2, 3, 4, 5, 1, 2, 3, 4, 5, 1, 1, 2, 3, 5, 1, 2, 3, 4, 5, 1, 3, 4, 1, 2, 3, 4, 5, 2, 1, 2, 3, 4, 5, 1, 2, 3, 4, 5, 1, 2, 3, 5, 1, 2, 3, 4, 5, 1, 2, 3, 4, 5, 1, 2, 1, 3, 4, 5, 1, 2, 3, 4, 5, 1, 2, 3, 4, 5, 1, 2, 3, 4, 5, 1, 2, 3, 4, 5, 1, 2, 3, 4, 5, 1, 3, 4, 5, 1, 2, 3, 4, 5, 2, 1, 2, 3, 4, 5, 2, 3, 4, 5, 1, 4, 5, 1, 1, 2, 3, 5, 1, 2, 3, 4, 5, 1, 2, 3, 4, 5, 1, 2, 3, 4, 5, 1, 2, 3, 1, 2, 3, 4, 5, 1, 2, 3, 4, 5, 1, 2, 3, 1, 2, 3, 4, 5, 2, 3, 5, 1, 1, 2, 3, 4, 5], \"Freq\": [0.6963193416595459, 0.057494256645441055, 0.07027075439691544, 0.10476730763912201, 0.07154840975999832, 0.6298139691352844, 0.23380304872989655, 0.04810301959514618, 0.06152711808681488, 0.025729522109031677, 0.34846723079681396, 0.6471534371376038, 0.9945548176765442, 0.046556323766708374, 0.15518774092197418, 0.7642996311187744, 0.03491724282503128, 0.004864691291004419, 0.9778029918670654, 0.019458765164017677, 0.004864691291004419, 0.9981297850608826, 0.9801057577133179, 0.9640385508537292, 0.0355587974190712, 0.9364312887191772, 0.05909518152475357, 0.9980652332305908, 0.008822857402265072, 0.9881600141525269, 0.9831952452659607, 0.996486485004425, 0.41917720437049866, 0.11081696301698685, 0.02890877239406109, 0.4432678520679474, 0.9924889802932739, 0.19728043675422668, 0.7891217470169067, 0.9978941082954407, 0.0015876118559390306, 0.9938449859619141, 0.004762835334986448, 0.3276080787181854, 0.541316568851471, 0.0504915677011013, 0.05988534539937973, 0.021136004477739334, 0.9941432476043701, 0.8696842789649963, 0.06146983057260513, 0.0682998076081276, 0.9951693415641785, 0.04748852550983429, 0.9497705101966858, 0.07721120119094849, 0.901136040687561, 0.015239053405821323, 0.006095621269196272, 0.9908262491226196, 0.008308815769851208, 0.36445558071136475, 0.6338357925415039, 0.9986575841903687, 0.14876550436019897, 0.7996145486831665, 0.04834878817200661, 0.08713378757238388, 0.10165608674287796, 0.7551594972610474, 0.05808918923139572, 0.2002832293510437, 0.022253692150115967, 0.7788792252540588, 0.9630448222160339, 0.9569569826126099, 0.044087450951337814, 0.015300472266972065, 0.9639297723770142, 0.022950708866119385, 0.2647518217563629, 0.18630683422088623, 0.07517644762992859, 0.4674013555049896, 0.003268541069701314, 0.04169610142707825, 0.9451116323471069, 0.0069493502378463745, 0.32836198806762695, 0.0581907294690609, 0.06650368869304657, 0.4655258357524872, 0.08312961459159851, 0.03376953303813934, 0.7766993045806885, 0.10130860656499863, 0.06753906607627869, 0.09950737655162811, 0.8813510537147522, 0.015966009348630905, 0.9819096326828003, 0.013812525197863579, 0.9852935075759888, 0.9969615340232849, 0.996370255947113, 0.9993966221809387, 0.006341357249766588, 0.9955930709838867, 0.028956199064850807, 0.29680103063583374, 0.11582479625940323, 0.5574068427085876, 0.8664060831069946, 0.09491527825593948, 0.007301175035536289, 0.012168625369668007, 0.01946979947388172, 0.08930408954620361, 0.8037368059158325, 0.08930408954620361, 0.9984312057495117, 0.6516503691673279, 0.013227003626525402, 0.08641642332077026, 0.17106924951076508, 0.07759842276573181, 0.0023098972160369158, 0.0023098972160369158, 0.27025797963142395, 0.4065419137477875, 0.3187658190727234, 0.06584896147251129, 0.06584896147251129, 0.7408008575439453, 0.12346680462360382, 0.9984626173973083, 0.07946386188268661, 0.05959789827466011, 0.8542365431785583, 0.26432308554649353, 0.3643372356891632, 0.21193473041057587, 0.1595463752746582, 0.003854683367535472, 0.038546834141016006, 0.543510377407074, 0.2042982131242752, 0.21586225926876068, 0.009927853010594845, 0.12906208634376526, 0.8637232184410095, 0.14114291965961456, 0.14114291965961456, 0.7057146430015564, 0.4220336377620697, 0.18279163539409637, 0.1471741497516632, 0.1700230985879898, 0.07862728089094162, 0.7699928879737854, 0.11052529513835907, 0.008596411906182766, 0.10561306029558182, 0.00614029448479414, 0.8671627640724182, 0.05361490324139595, 0.0326351597905159, 0.0093243308365345, 0.03496624156832695, 0.13947701454162598, 0.7970114946365356, 0.03985057398676872, 0.0046151611022651196, 0.9830292463302612, 0.013845482841134071, 0.08513036370277405, 0.10109230875968933, 0.7448906898498535, 0.06916841864585876, 0.13744428753852844, 0.005975838750600815, 0.20019058883190155, 0.490018755197525, 0.16433556377887726, 0.9989036917686462, 0.9933658838272095, 0.9908503890037537, 0.15525110065937042, 0.7762555480003357, 0.033268094062805176, 0.033268094062805176, 0.19000442326068878, 0.07772908359766006, 0.14682160317897797, 0.5786498785018921, 0.05165906995534897, 0.08609844744205475, 0.22385597229003906, 0.6371285319328308, 0.01721969060599804, 0.6589069366455078, 0.13556458055973053, 0.20492321252822876, 0.0025823391042649746, 0.7178902626037598, 0.18334607779979706, 0.09296420216560364, 0.3505264222621918, 0.058421071618795395, 0.5939475893974304, 0.7057393789291382, 0.08440139889717102, 0.21010561287403107, 0.10018401592969894, 0.03467908501625061, 0.1502760350704193, 0.2350471168756485, 0.4778006970882416, 0.998290479183197, 0.9913132190704346, 0.008521316573023796, 0.9993460774421692, 0.9911953210830688, 0.007605079095810652, 0.9980142116546631, 0.00985637865960598, 0.02956913411617279, 0.9166432023048401, 0.03942551463842392, 0.19393086433410645, 0.8010187745094299, 0.00421588821336627, 0.20072321593761444, 0.03345387056469917, 0.06690774112939835, 0.7025312781333923, 0.9922133684158325, 0.02302314154803753, 0.06906942278146744, 0.8979025483131409, 0.025573691353201866, 0.8215548396110535, 0.12786845862865448, 0.025573691353201866, 0.14050652086734772, 0.1552966833114624, 0.11092620342969894, 0.5620260834693909, 0.036975402384996414, 0.11346001923084259, 0.045384008437395096, 0.06807601451873779, 0.646722137928009, 0.12480602413415909, 0.004267031326889992, 0.0128010930493474, 0.08534062653779984, 0.08534062653779984, 0.8107359409332275, 0.001780041609890759, 0.900701105594635, 0.048061124980449677, 0.0008900208049453795, 0.04895114526152611, 0.1208798885345459, 0.8382757902145386, 0.005255647469311953, 0.023650413379073143, 0.013139118440449238, 0.5054133534431458, 0.0010507553815841675, 0.09666949510574341, 0.19018672406673431, 0.20594805479049683, 0.254252552986145, 0.5141018033027649, 0.11753183603286743, 0.02798376977443695, 0.08714945614337921, 0.15967673063278198, 0.8183432221412659, 0.04256797209382057, 0.9412251710891724, 0.018919099122285843, 0.9283040761947632, 0.05142209306359291, 0.008119277656078339, 0.013532129116356373, 0.032676395028829575, 0.1307055801153183, 0.032676395028829575, 0.7842334508895874, 0.9544861912727356, 0.020236456766724586, 0.02360919862985611, 0.00041468729614280164, 0.804908037185669, 0.0393952950835228, 0.15550774335861206, 0.11410456150770187, 0.8748016357421875, 0.13810646533966064, 0.2448250949382782, 0.006277566775679588, 0.6089239716529846, 0.2352529615163803, 0.3750409483909607, 0.1659272015094757, 0.12615013122558594, 0.09773794561624527, 0.2511316239833832, 0.5530874729156494, 0.08819503337144852, 0.0627829059958458, 0.04484493285417557, 0.9357642531394958, 0.05714590847492218, 0.9415892362594604, 0.0009240325889550149, 0.05729002133011818, 0.14893384277820587, 0.7093954086303711, 0.029394838958978653, 0.058789677917957306, 0.0548703633248806, 0.1434139609336853, 0.8445489406585693, 0.819448709487915, 0.17970366775989532, 0.9845825433731079, 0.017901500687003136, 0.9974643588066101, 0.24688397347927094, 0.2731153964996338, 0.27002933621406555, 0.11264081299304962, 0.09875359386205673, 0.9878380298614502, 0.01116201188415289, 0.985234797000885, 0.9458329081535339, 0.05544537678360939, 0.6962245106697083, 0.2983819246292114, 0.26212558150291443, 0.716476559638977, 0.1898355334997177, 0.6881538033485413, 0.11864720284938812, 0.9959967732429504, 0.052962496876716614, 0.3707374930381775, 0.582587480545044, 0.04213233292102814, 0.9479774832725525, 0.9957721829414368, 0.14015080034732819, 0.008085622452199459, 0.3638530373573303, 0.36654824018478394, 0.1185891330242157, 0.014501966536045074, 0.9812996983528137, 0.9921586513519287, 0.7773773074150085, 0.2085646390914917, 0.0675216093659401, 0.911541759967804, 0.030765119940042496, 0.19018438458442688, 0.6180992722511292, 0.16221609711647034, 0.9558233618736267, 0.027878180146217346, 0.00796519499272108, 0.00796519499272108, 0.9940148591995239, 0.9894980192184448, 0.014050774276256561, 0.9835541844367981, 0.9965848922729492, 0.9965110421180725, 0.9672753214836121, 0.2386947125196457, 0.7160841226577759, 0.019891226664185524, 0.9911811351776123, 0.0014838040806353092, 0.007419020403176546, 0.9817610383033752, 0.45153048634529114, 0.4114106297492981, 0.04011983051896095, 0.04595544561743736, 0.05106160417199135, 0.8644908666610718, 0.0034441868774592876, 0.12743490934371948, 0.005166280083358288, 0.9045858979225159, 0.06305424124002457, 0.0194013062864542, 0.002425163285806775, 0.0097006531432271, 0.010469984263181686, 0.9894134998321533, 0.023821255192160606, 0.09528502076864243, 0.23821254074573517, 0.64317387342453, 0.9968417286872864, 0.9956235289573669, 0.018147720023989677, 0.8892382979393005, 0.05444316193461418, 0.036295440047979355, 0.8424749970436096, 0.12637124955654144, 0.13140925765037537, 0.5445448160171509, 0.1748972088098526, 0.06617732346057892, 0.08319434523582458, 0.9874624013900757, 0.9804767966270447, 0.008170640096068382, 0.0027235466986894608, 0.010894186794757843, 0.004663062281906605, 0.004663062281906605, 0.11191349476575851, 0.06994593143463135, 0.8113728165626526, 0.10874689370393753, 0.12082988023757935, 0.09263624250888824, 0.6766473054885864, 0.32119932770729065, 0.3034069538116455, 0.17043229937553406, 0.09364411979913712, 0.11143650859594345, 0.01692955382168293, 0.9649845957756042, 0.31525325775146484, 0.19949620962142944, 0.19087599217891693, 0.13299746811389923, 0.16255246102809906, 0.625869870185852, 0.0012772855116054416, 0.18520639836788177, 0.08557812869548798, 0.10218283534049988, 0.02131474018096924, 0.9561183452606201, 0.02131474018096924, 0.6666415929794312, 0.15746280550956726, 0.08093882352113724, 0.050034910440444946, 0.045620065182447433, 0.2646370530128479, 0.060866519808769226, 0.4975176453590393, 0.07145200669765472, 0.1058548167347908, 0.0031010739039629698, 0.19536766409873962, 0.08372899889945984, 0.7194491624832153, 0.3243149220943451, 0.11865179240703583, 0.14396418631076813, 0.3227328956127167, 0.09017536789178848, 0.03256528079509735, 0.1302611231803894, 0.7815667390823364, 0.05427546799182892, 0.969516932964325, 0.0014689649688079953, 0.02937930077314377, 0.547193706035614, 0.4363086223602295, 0.015668541193008423, 0.6096107959747314, 0.16072599589824677, 0.05510605871677399, 0.10102777183055878, 0.07347474247217178, 0.9952793717384338, 0.995471715927124, 0.9108783602714539, 0.08157119899988174, 0.810498058795929, 0.012147347442805767, 0.07524607330560684, 0.04521512985229492, 0.05702504888176918, 0.022113298997282982, 0.2021787315607071, 0.5954795479774475, 0.004738563671708107, 0.17374734580516815, 0.10104259848594666, 0.011226954869925976, 0.16840432584285736, 0.4760228991508484, 0.24250224232673645, 0.009592226706445217, 0.0023980566766113043, 0.1103106141090393, 0.5179802775382996, 0.3573104739189148, 0.3997880816459656, 0.27785542607307434, 0.10089118778705597, 0.10952359437942505, 0.11168169230222702, 0.04593218117952347, 0.9462029337882996, 0.00957431923598051, 0.9957292079925537, 0.25261276960372925, 0.34851205348968506, 0.13098439574241638, 0.20700213313102722, 0.06081418693065643, 0.9814794659614563, 0.018947480246424675, 0.17355360090732574, 0.7319434881210327, 0.028296783566474915, 0.050934210419654846, 0.01697807013988495, 0.01634424738585949, 0.980654776096344, 0.2899007499217987, 0.39399436116218567, 0.12335094064474106, 0.13844451308250427, 0.05412868410348892, 0.002253019018098712, 0.054072458297014236, 0.279374361038208, 0.4753870368003845, 0.18925359845161438, 0.06377028673887253, 0.31247439980506897, 0.5611785054206848, 0.057393256574869156, 0.9949938058853149, 0.9652344584465027, 0.002688675420358777, 0.005377350840717554, 0.02285374142229557, 0.002688675420358777, 0.002930705202743411, 0.014653525315225124, 0.40150660276412964, 0.2637634575366974, 0.319446861743927, 0.3221892714500427, 0.07269912213087082, 0.2412288933992386, 0.27262169122695923, 0.09142465144395828, 0.001503744744695723, 0.5263106822967529, 0.4586421549320221, 0.013533703051507473, 0.02370026335120201, 0.8887599110603333, 0.08295092731714249, 0.013246719725430012, 0.013246719725430012, 0.2119475156068802, 0.7683097720146179, 0.855709969997406, 0.020870976150035858, 0.028898274526000023, 0.0674293041229248, 0.025687353685498238, 0.035978760570287704, 0.7424708008766174, 0.10466548800468445, 0.027801770716905594, 0.08667610585689545, 0.00413306150585413, 0.6323583722114563, 0.3182457387447357, 0.00413306150585413, 0.04133061319589615, 0.03021332249045372, 0.8392589688301086, 0.06714071333408356, 0.023499250411987305, 0.040284428745508194, 0.0441601537168026, 0.0883203074336052, 0.8537629842758179, 0.1251288205385208, 0.8401506543159485, 0.035751089453697205, 0.9379155039787292, 0.05927347019314766, 0.8908779621124268, 0.10223189741373062, 0.19548675417900085, 0.03258112818002701, 0.16290563344955444, 0.619041383266449, 0.9874533414840698, 0.009841728024184704, 0.020954100415110588, 0.9848426580429077, 0.16494864225387573, 0.8247432708740234, 0.009130837395787239, 0.9633033275604248, 0.027392512187361717, 0.9865233898162842, 0.01174432598054409, 0.009268533438444138, 0.009268533438444138, 0.1714678704738617, 0.8109966516494751, 0.9897241592407227, 0.2791876494884491, 0.7179111242294312, 0.8315576314926147, 0.027057189494371414, 0.05411437898874283, 0.06854487955570221, 0.019841939210891724, 0.005821052473038435, 0.9866684079170227, 0.008731578476727009, 0.9636866450309753, 0.9852797985076904, 0.9925263524055481, 0.5806710124015808, 0.022120801731944084, 0.08663980662822723, 0.2636062204837799, 0.047928404062986374, 0.22014963626861572, 0.17611971497535706, 0.5944040417671204, 0.011533403769135475, 0.9918727278709412, 0.9971461296081543, 0.9894058704376221, 0.006342345383018255, 0.006342345383018255, 0.702452540397644, 0.07680574804544449, 0.052803948521614075, 0.009600718505680561, 0.15841184556484222, 0.021372759714722633, 0.34196415543556213, 0.032059140503406525, 0.5984373092651367, 0.5597680807113647, 0.16299130022525787, 0.11113042384386063, 0.12430144101381302, 0.041982606053352356, 0.018098140135407448, 0.9628210663795471, 0.018098140135407448, 0.031542789191007614, 0.9372714161872864, 0.013518338091671467, 0.018024450168013573, 0.1964215487241745, 0.600352942943573, 0.045937299728393555, 0.12672358751296997, 0.03009685128927231, 0.9918320775032043, 0.007239650469273329, 0.339884877204895, 0.0057607609778642654, 0.2793968915939331, 0.37156906723976135, 0.35524091124534607, 0.6297452449798584, 0.2518271505832672, 0.004641974810510874, 0.21933330595493317, 0.4734814465045929, 0.05222221836447716, 0.30376923084259033, 0.4466437101364136, 0.1338644027709961, 0.082378089427948, 0.03346610069274902, 0.8364911675453186, 0.010696817189455032, 0.07059899717569351, 0.027811726555228233, 0.05348408967256546, 0.9933706521987915, 0.06700576841831207, 0.09380807727575302, 0.02680230885744095, 0.8040692806243896, 0.23986107110977173, 0.3375187814235687, 0.3666447699069977, 0.015419640578329563, 0.0411190390586853, 0.2939661145210266, 0.09798870235681534, 0.6124293804168701, 0.1324971318244934, 0.8382471203804016, 0.024336207658052444, 0.005408045835793018, 0.04970436543226242, 0.3128451108932495, 0.11402765661478043, 0.5204339623451233, 0.18717122077941895, 0.7185654044151306, 0.04087647423148155, 0.03657368943095207, 0.017211146652698517, 0.997965395450592, 0.00223301793448627, 0.10495184361934662, 0.4086422920227051, 0.48233187198638916, 0.027057059109210968, 0.32919421792030334, 0.6403504014015198, 0.032139360904693604, 0.09641807526350021, 0.8570495843887329, 0.004431542009115219, 0.14624089002609253, 0.0709046721458435, 0.6292789578437805, 0.15067242085933685, 0.01908506080508232, 0.9319871664047241, 0.022265903651714325, 0.025446748360991478, 0.9928150177001953, 0.011144472286105156, 0.9740268588066101, 0.011144472286105156, 0.00445778900757432, 0.878422737121582, 0.044021185487508774, 0.002000963082537055, 0.04802311211824417, 0.028013482689857483, 0.8248775601387024, 0.1554117053747177, 0.011954747140407562, 0.01706668920814991, 0.9898679852485657, 0.08659829944372177, 0.11546440422534943, 0.7793847322463989, 0.19054891169071198, 0.047637227922677994, 0.7463165521621704, 0.28653913736343384, 0.6367536783218384, 0.06367536634206772, 0.22915495932102203, 0.02546166069805622, 0.6938302516937256, 0.05092332139611244, 0.147299662232399, 0.011187315918505192, 0.11373771727085114, 0.3840978741645813, 0.343077689409256, 0.2773626148700714, 0.48307323455810547, 0.08320879191160202, 0.1167234405875206, 0.039293039590120316, 0.9978342056274414, 0.04302109032869339, 0.8866085410118103, 0.007481928449124098, 0.06359639018774033, 0.0012810769258067012, 0.0076864613220095634, 0.46887415647506714, 0.2997719943523407, 0.22290737926959991, 0.1780703365802765, 0.21764151751995087, 0.5935677886009216, 0.07005196809768677, 0.008756496012210846, 0.1926429122686386, 0.6917632222175598, 0.052538976073265076, 0.9970929622650146, 0.4028228521347046, 0.4614616334438324, 0.059913527220487595, 0.04334169998764992, 0.033143654465675354, 0.26482707262039185, 0.526067316532135, 0.08249691873788834, 0.08130130916833878, 0.04543308541178703, 0.004213016480207443, 0.8447098135948181, 0.004213016480207443, 0.14745557308197021, 0.6374006867408752, 0.19986292719841003, 0.06590075045824051, 0.06806142628192902, 0.028088843449950218, 0.1662164032459259, 0.6045714616775513, 0.16295726597309113, 0.013036580756306648, 0.05214632302522659, 0.9979814291000366, 0.9979274272918701, 0.2558705508708954, 0.012184311635792255, 0.02436862327158451, 0.7066900730133057, 0.007645290344953537, 0.1834869682788849, 0.7874649167060852, 0.0025484301149845123, 0.017839010804891586, 0.3675627112388611, 0.46133726835250854, 0.05525999888777733, 0.05693454295396805, 0.05944636091589928, 0.6836877465248108, 0.13989146053791046, 0.06206094101071358, 0.05850006639957428, 0.05595658719539642, 0.4986615777015686, 0.14802375435829163, 0.0503910668194294, 0.23410849273204803, 0.06928771734237671, 0.12257298827171326, 0.06042330339550972, 0.3142011761665344, 0.35563430190086365, 0.1467423141002655, 0.0018376015359535813, 0.2976914346218109, 0.4318363666534424, 0.26828983426094055, 0.10193091630935669, 0.008494243025779724, 0.22651314735412598, 0.404892235994339, 0.2548272907733917, 0.998334527015686, 0.00775998504832387, 0.20175960659980774, 0.23279955983161926, 0.07371985912322998, 0.4811190664768219, 0.13016964495182037, 0.6431911587715149, 0.10209383815526962, 0.12251260876655579, 0.013879718258976936, 0.004626572597771883, 0.9808334112167358, 0.9941555857658386, 0.06486130505800247, 0.22701458632946014, 0.6810437440872192, 0.0243229903280735, 0.2409353107213974, 0.3308697044849396, 0.19097177684307098, 0.14433912932872772, 0.09326528012752533, 0.13281585276126862, 0.08362479507923126, 0.23365752398967743, 0.27546992897987366, 0.27301037311553955, 0.26535528898239136, 0.527140736579895, 0.10947392880916595, 0.053547028452157974, 0.04521749168634415, 0.03709934651851654, 0.9460332989692688, 0.012366448529064655, 0.11043531447649002, 0.8329443335533142, 0.018717849627137184, 0.029948560521006584, 0.007487140130251646, 0.024198804050683975, 0.04839760810136795, 0.04234790802001953, 0.08469581604003906, 0.8046102523803711, 0.039129577577114105, 0.9488922953605652, 0.014673592522740364, 0.2770906984806061, 0.48975974321365356, 0.0977967157959938, 0.08382575213909149, 0.05122685059905052, 0.023403014987707138, 0.1287165731191635, 0.8542100191116333, 0.9938098192214966, 0.8188613057136536, 0.06287552416324615, 0.04734157398343086, 0.02441049925982952, 0.04660186171531677], \"Term\": [\"000\", \"000\", \"000\", \"000\", \"000\", \"1\", \"1\", \"1\", \"1\", \"1\", \"3g\", \"3g\", \"academy\", \"access\", \"access\", \"access\", \"access\", \"actor\", \"actor\", \"actor\", \"actor\", \"actress\", \"adventure\", \"airline\", \"airline\", \"apple\", \"apple\", \"argued\", \"arsenal\", \"arsenal\", \"athens\", \"athletics\", \"attack\", \"attack\", \"attack\", \"attack\", \"attorney\", \"audio\", \"audio\", \"aviator\", \"award\", \"award\", \"award\", \"back\", \"back\", \"back\", \"back\", \"back\", \"bafta\", \"bank\", \"bank\", \"bank\", \"bankruptcy\", \"battery\", \"battery\", \"best\", \"best\", \"best\", \"best\", \"blair\", \"blair\", \"blog\", \"blog\", \"blunkett\", \"broadband\", \"broadband\", \"broadband\", \"broadcast\", \"broadcast\", \"broadcast\", \"broadcast\", \"broadcaster\", \"broadcaster\", \"broadcaster\", \"broadcasting\", \"brown\", \"brown\", \"bt\", \"bt\", \"bt\", \"call\", \"call\", \"call\", \"call\", \"call\", \"camera\", \"camera\", \"camera\", \"card\", \"card\", \"card\", \"card\", \"card\", \"cd\", \"cd\", \"cd\", \"cd\", \"cell\", \"cell\", \"ceremony\", \"ceremony\", \"champion\", \"champion\", \"championship\", \"chancellor\", \"chapter\", \"chelsea\", \"chelsea\", \"chip\", \"chip\", \"chip\", \"chip\", \"claim\", \"claim\", \"claim\", \"claim\", \"claim\", \"click\", \"click\", \"click\", \"coach\", \"company\", \"company\", \"company\", \"company\", \"company\", \"computer\", \"computer\", \"computer\", \"computer\", \"computer\", \"connection\", \"connection\", \"connection\", \"connection\", \"conservative\", \"console\", \"console\", \"console\", \"consumer\", \"consumer\", \"consumer\", \"consumer\", \"content\", \"content\", \"content\", \"content\", \"content\", \"copy\", \"copy\", \"copy\", \"copyright\", \"copyright\", \"copyright\", \"could\", \"could\", \"could\", \"could\", \"could\", \"country\", \"country\", \"country\", \"country\", \"country\", \"court\", \"court\", \"court\", \"court\", \"court\", \"creative\", \"creative\", \"creative\", \"cup\", \"cup\", \"cup\", \"customer\", \"customer\", \"customer\", \"customer\", \"data\", \"data\", \"data\", \"data\", \"data\", \"debt\", \"democrat\", \"dems\", \"design\", \"design\", \"design\", \"design\", \"developer\", \"developer\", \"developer\", \"developer\", \"developing\", \"developing\", \"developing\", \"developing\", \"developing\", \"device\", \"device\", \"device\", \"digital\", \"digital\", \"digital\", \"digital\", \"document\", \"document\", \"document\", \"dvd\", \"dvd\", \"dvd\", \"e\", \"e\", \"e\", \"e\", \"e\", \"earnings\", \"economic\", \"economic\", \"economist\", \"economy\", \"economy\", \"election\", \"engine\", \"engine\", \"engine\", \"engine\", \"england\", \"england\", \"england\", \"equivalent\", \"equivalent\", \"equivalent\", \"equivalent\", \"export\", \"fake\", \"fake\", \"fake\", \"fan\", \"fan\", \"fan\", \"fan\", \"fast\", \"fast\", \"fast\", \"fast\", \"fast\", \"faster\", \"faster\", \"faster\", \"faster\", \"faster\", \"file\", \"file\", \"file\", \"file\", \"file\", \"film\", \"film\", \"film\", \"film\", \"film\", \"final\", \"final\", \"final\", \"final\", \"final\", \"firm\", \"firm\", \"firm\", \"firm\", \"firm\", \"first\", \"first\", \"first\", \"first\", \"first\", \"fixed\", \"fixed\", \"football\", \"football\", \"football\", \"foreign\", \"foreign\", \"foreign\", \"foreign\", \"francisco\", \"francisco\", \"francisco\", \"francisco\", \"gadget\", \"gadget\", \"gadget\", \"game\", \"game\", \"game\", \"game\", \"gamers\", \"gamers\", \"gaming\", \"gaming\", \"gaming\", \"gaming\", \"get\", \"get\", \"get\", \"get\", \"get\", \"good\", \"good\", \"good\", \"good\", \"good\", \"google\", \"google\", \"government\", \"government\", \"government\", \"half\", \"half\", \"half\", \"half\", \"half\", \"handheld\", \"handheld\", \"handset\", \"handset\", \"health\", \"health\", \"hero\", \"high\", \"high\", \"high\", \"high\", \"high\", \"hollywood\", \"hollywood\", \"holmes\", \"howard\", \"howard\", \"ibm\", \"ibm\", \"id\", \"id\", \"identity\", \"identity\", \"identity\", \"immigration\", \"implication\", \"implication\", \"implication\", \"infected\", \"infected\", \"inflation\", \"information\", \"information\", \"information\", \"information\", \"information\", \"injury\", \"injury\", \"inquiry\", \"intel\", \"intel\", \"interface\", \"interface\", \"internet\", \"internet\", \"internet\", \"internet\", \"investment\", \"investment\", \"investment\", \"investment\", \"investor\", \"ipod\", \"j\", \"j\", \"jail\", \"kennedy\", \"keyboard\", \"lab\", \"lab\", \"lab\", \"labour\", \"labour\", \"labour\", \"laptop\", \"last\", \"last\", \"last\", \"last\", \"last\", \"law\", \"law\", \"law\", \"law\", \"leader\", \"leader\", \"leader\", \"leader\", \"leader\", \"league\", \"league\", \"legitimate\", \"legitimate\", \"legitimate\", \"legitimate\", \"lib\", \"liberal\", \"library\", \"library\", \"library\", \"library\", \"lifestyle\", \"lifestyle\", \"like\", \"like\", \"like\", \"like\", \"like\", \"lion\", \"lord\", \"lord\", \"lord\", \"lord\", \"machine\", \"machine\", \"machine\", \"machine\", \"machine\", \"mail\", \"mail\", \"mail\", \"mail\", \"make\", \"make\", \"make\", \"make\", \"make\", \"malicious\", \"malicious\", \"many\", \"many\", \"many\", \"many\", \"many\", \"market\", \"market\", \"market\", \"market\", \"market\", \"match\", \"match\", \"match\", \"may\", \"may\", \"may\", \"may\", \"may\", \"medium\", \"medium\", \"medium\", \"medium\", \"medium\", \"microsoft\", \"microsoft\", \"microsoft\", \"microsoft\", \"million\", \"million\", \"million\", \"million\", \"million\", \"mini\", \"mini\", \"mini\", \"mini\", \"minister\", \"minister\", \"minister\", \"mobile\", \"mobile\", \"mobile\", \"month\", \"month\", \"month\", \"month\", \"month\", \"mourinho\", \"mp\", \"mp3\", \"mp3\", \"mr\", \"mr\", \"mr\", \"mr\", \"mr\", \"music\", \"music\", \"music\", \"music\", \"music\", \"net\", \"net\", \"net\", \"net\", \"net\", \"network\", \"network\", \"network\", \"network\", \"network\", \"new\", \"new\", \"new\", \"new\", \"new\", \"nintendo\", \"nintendo\", \"nomination\", \"nomination\", \"number\", \"number\", \"number\", \"number\", \"number\", \"oil\", \"oil\", \"old\", \"old\", \"old\", \"old\", \"old\", \"olympic\", \"olympic\", \"one\", \"one\", \"one\", \"one\", \"one\", \"online\", \"online\", \"online\", \"online\", \"online\", \"operator\", \"operator\", \"operator\", \"operator\", \"oscar\", \"party\", \"party\", \"party\", \"party\", \"party\", \"pc\", \"pc\", \"pc\", \"pc\", \"pc\", \"people\", \"people\", \"people\", \"people\", \"people\", \"phone\", \"phone\", \"phone\", \"phone\", \"photo\", \"photo\", \"photo\", \"piracy\", \"piracy\", \"piracy\", \"piracy\", \"plan\", \"plan\", \"plan\", \"plan\", \"plan\", \"play\", \"play\", \"play\", \"play\", \"play\", \"player\", \"player\", \"player\", \"player\", \"player\", \"playing\", \"playing\", \"playing\", \"playing\", \"playing\", \"playstation\", \"playstation\", \"playstation\", \"pocket\", \"pocket\", \"pocket\", \"policy\", \"policy\", \"portable\", \"portable\", \"premium\", \"premium\", \"premium\", \"premium\", \"prime\", \"prime\", \"print\", \"print\", \"privacy\", \"privacy\", \"prize\", \"prize\", \"prize\", \"profit\", \"profit\", \"program\", \"program\", \"program\", \"program\", \"prosecutor\", \"provider\", \"provider\", \"public\", \"public\", \"public\", \"public\", \"public\", \"ray\", \"ray\", \"ray\", \"recorder\", \"referee\", \"reform\", \"report\", \"report\", \"report\", \"report\", \"report\", \"respond\", \"respond\", \"respond\", \"roddick\", \"roddick\", \"rugby\", \"ruling\", \"ruling\", \"ruling\", \"sale\", \"sale\", \"sale\", \"sale\", \"sale\", \"san\", \"san\", \"san\", \"san\", \"say\", \"say\", \"say\", \"say\", \"say\", \"search\", \"search\", \"search\", \"season\", \"season\", \"season\", \"season\", \"second\", \"second\", \"second\", \"second\", \"second\", \"secretary\", \"secretary\", \"security\", \"security\", \"security\", \"security\", \"server\", \"server\", \"service\", \"service\", \"service\", \"service\", \"service\", \"set\", \"set\", \"set\", \"set\", \"set\", \"share\", \"share\", \"share\", \"share\", \"share\", \"shareholder\", \"sharing\", \"sharing\", \"sharing\", \"sharing\", \"show\", \"show\", \"show\", \"show\", \"show\", \"shut\", \"shut\", \"shut\", \"side\", \"side\", \"side\", \"side\", \"site\", \"site\", \"site\", \"site\", \"six\", \"six\", \"six\", \"six\", \"six\", \"slam\", \"software\", \"software\", \"software\", \"software\", \"sony\", \"sony\", \"sony\", \"spam\", \"spam\", \"spam\", \"speed\", \"speed\", \"speed\", \"speed\", \"speed\", \"sport\", \"sport\", \"sport\", \"sport\", \"squad\", \"star\", \"star\", \"star\", \"star\", \"state\", \"state\", \"state\", \"state\", \"state\", \"storage\", \"storage\", \"storage\", \"striker\", \"striker\", \"subscriber\", \"subscriber\", \"subscriber\", \"sun\", \"sun\", \"sun\", \"supplier\", \"supplier\", \"supplier\", \"survey\", \"survey\", \"survey\", \"survey\", \"system\", \"system\", \"system\", \"system\", \"system\", \"take\", \"take\", \"take\", \"take\", \"take\", \"tax\", \"team\", \"team\", \"team\", \"team\", \"technology\", \"technology\", \"technology\", \"technology\", \"technology\", \"telephone\", \"telephone\", \"telephone\", \"text\", \"text\", \"text\", \"text\", \"text\", \"theatre\", \"three\", \"three\", \"three\", \"three\", \"three\", \"time\", \"time\", \"time\", \"time\", \"time\", \"title\", \"title\", \"title\", \"title\", \"told\", \"told\", \"told\", \"told\", \"told\", \"top\", \"top\", \"top\", \"top\", \"top\", \"tory\", \"tournament\", \"traffic\", \"traffic\", \"traffic\", \"traffic\", \"tv\", \"tv\", \"tv\", \"tv\", \"tv\", \"two\", \"two\", \"two\", \"two\", \"two\", \"u\", \"u\", \"u\", \"u\", \"u\", \"uk\", \"uk\", \"uk\", \"uk\", \"uk\", \"use\", \"use\", \"use\", \"use\", \"use\", \"user\", \"user\", \"user\", \"user\", \"using\", \"using\", \"using\", \"using\", \"using\", \"v\", \"version\", \"version\", \"version\", \"version\", \"version\", \"video\", \"video\", \"video\", \"video\", \"virus\", \"virus\", \"virus\", \"wage\", \"watch\", \"watch\", \"watch\", \"watch\", \"way\", \"way\", \"way\", \"way\", \"way\", \"website\", \"website\", \"website\", \"website\", \"website\", \"well\", \"well\", \"well\", \"well\", \"well\", \"williams\", \"williams\", \"williams\", \"win\", \"win\", \"win\", \"win\", \"win\", \"window\", \"window\", \"window\", \"window\", \"window\", \"winner\", \"winner\", \"winner\", \"world\", \"world\", \"world\", \"world\", \"world\", \"xbox\", \"xbox\", \"xbox\", \"yukos\", \"\\u00e2\", \"\\u00e2\", \"\\u00e2\", \"\\u00e2\", \"\\u00e2\"]}, \"R\": 30, \"lambda.step\": 0.01, \"plot.opts\": {\"xlab\": \"PC1\", \"ylab\": \"PC2\"}, \"topic.order\": [4, 3, 5, 2, 1]};\n",
       "\n",
       "function LDAvis_load_lib(url, callback){\n",
       "  var s = document.createElement('script');\n",
       "  s.src = url;\n",
       "  s.async = true;\n",
       "  s.onreadystatechange = s.onload = callback;\n",
       "  s.onerror = function(){console.warn(\"failed to load library \" + url);};\n",
       "  document.getElementsByTagName(\"head\")[0].appendChild(s);\n",
       "}\n",
       "\n",
       "if(typeof(LDAvis) !== \"undefined\"){\n",
       "   // already loaded: just create the visualization\n",
       "   !function(LDAvis){\n",
       "       new LDAvis(\"#\" + \"ldavis_el192031403053706419047365842913\", ldavis_el192031403053706419047365842913_data);\n",
       "   }(LDAvis);\n",
       "}else if(typeof define === \"function\" && define.amd){\n",
       "   // require.js is available: use it to load d3/LDAvis\n",
       "   require.config({paths: {d3: \"https://cdnjs.cloudflare.com/ajax/libs/d3/3.5.5/d3.min\"}});\n",
       "   require([\"d3\"], function(d3){\n",
       "      window.d3 = d3;\n",
       "      LDAvis_load_lib(\"https://cdn.rawgit.com/bmabey/pyLDAvis/files/ldavis.v1.0.0.js\", function(){\n",
       "        new LDAvis(\"#\" + \"ldavis_el192031403053706419047365842913\", ldavis_el192031403053706419047365842913_data);\n",
       "      });\n",
       "    });\n",
       "}else{\n",
       "    // require.js not available: dynamically load d3 & LDAvis\n",
       "    LDAvis_load_lib(\"https://cdnjs.cloudflare.com/ajax/libs/d3/3.5.5/d3.min.js\", function(){\n",
       "         LDAvis_load_lib(\"https://cdn.rawgit.com/bmabey/pyLDAvis/files/ldavis.v1.0.0.js\", function(){\n",
       "                 new LDAvis(\"#\" + \"ldavis_el192031403053706419047365842913\", ldavis_el192031403053706419047365842913_data);\n",
       "            })\n",
       "         });\n",
       "}\n",
       "</script>"
      ],
      "text/plain": [
       "PreparedData(topic_coordinates=          x     y  topics  cluster  Freq\n",
       "topic                                   \n",
       "3     -0.09 -0.14       1        1 43.81\n",
       "2     -0.18  0.09       2        1 30.45\n",
       "4      0.08  0.07       3        1 10.00\n",
       "1      0.09 -0.07       4        1  8.84\n",
       "0      0.09  0.05       5        1  6.89, topic_info=         Term     Freq    Total Category  logprob  loglift\n",
       "2052     game 2,411.00 2,411.00  Default    30.00    30.00\n",
       "219    people 1,815.00 1,815.00  Default    29.00    29.00\n",
       "510    mobile   829.00   829.00  Default    28.00    28.00\n",
       "212        mr 2,963.00 2,963.00  Default    27.00    27.00\n",
       "100   service   861.00   861.00  Default    26.00    26.00\n",
       "...       ...      ...      ...      ...      ...      ...\n",
       "212        mr   169.15 2,963.61   Topic5    -5.04    -0.19\n",
       "2607      dvd   116.96   556.86   Topic5    -5.41     1.11\n",
       "434      make   118.62 1,067.87   Topic5    -5.39     0.48\n",
       "495     could   117.28 1,488.03   Topic5    -5.40     0.13\n",
       "2432    music   110.45   633.10   Topic5    -5.46     0.93\n",
       "\n",
       "[365 rows x 6 columns], token_table=      Topic  Freq Term\n",
       "term                  \n",
       "123       1  0.70  000\n",
       "123       2  0.06  000\n",
       "123       3  0.07  000\n",
       "123       4  0.10  000\n",
       "123       5  0.07  000\n",
       "...     ...   ...  ...\n",
       "481       1  0.82    â\n",
       "481       2  0.06    â\n",
       "481       3  0.05    â\n",
       "481       4  0.02    â\n",
       "481       5  0.05    â\n",
       "\n",
       "[935 rows x 3 columns], R=30, lambda_step=0.01, plot_opts={'xlab': 'PC1', 'ylab': 'PC2'}, topic_order=[4, 3, 5, 2, 1])"
      ]
     },
     "execution_count": 66,
     "metadata": {},
     "output_type": "execute_result"
    }
   ],
   "source": [
    "pyLDAvis.enable_notebook()\n",
    "vis = pyLDAvis.gensim.prepare(model, corpus, dictionary=dictionary)\n",
    "vis"
   ]
  },
  {
   "cell_type": "markdown",
   "metadata": {},
   "source": [
    "### Assign Topic Model Numbers to original Data Frame as Column"
   ]
  },
  {
   "cell_type": "code",
   "execution_count": 67,
   "metadata": {},
   "outputs": [],
   "source": [
    "# Assigns the topics to the documents in corpus\n",
    "lda_corpus = model[corpus]"
   ]
  },
  {
   "cell_type": "code",
   "execution_count": 68,
   "metadata": {},
   "outputs": [],
   "source": [
    "topics = []\n",
    "\n",
    "for doc in lda_corpus:\n",
    "    temp_id = []\n",
    "    temp_score = []\n",
    "    for doc_tuple in doc:\n",
    "        temp_id.append(doc_tuple[0])\n",
    "        temp_score.append(doc_tuple[1])\n",
    "    index = np.argmax(temp_score)\n",
    "    topics.append(temp_id[index])"
   ]
  },
  {
   "cell_type": "code",
   "execution_count": 69,
   "metadata": {},
   "outputs": [],
   "source": [
    "docs[\"Topic_num\"] = topics"
   ]
  },
  {
   "cell_type": "code",
   "execution_count": 75,
   "metadata": {},
   "outputs": [
    {
     "data": {
      "text/html": [
       "<div>\n",
       "<style scoped>\n",
       "    .dataframe tbody tr th:only-of-type {\n",
       "        vertical-align: middle;\n",
       "    }\n",
       "\n",
       "    .dataframe tbody tr th {\n",
       "        vertical-align: top;\n",
       "    }\n",
       "\n",
       "    .dataframe thead th {\n",
       "        text-align: right;\n",
       "    }\n",
       "</style>\n",
       "<table border=\"1\" class=\"dataframe\">\n",
       "  <thead>\n",
       "    <tr style=\"text-align: right;\">\n",
       "      <th></th>\n",
       "      <th>Category</th>\n",
       "      <th>Heading</th>\n",
       "      <th>Article</th>\n",
       "      <th>Topic_num</th>\n",
       "    </tr>\n",
       "  </thead>\n",
       "  <tbody>\n",
       "    <tr>\n",
       "      <th>2185</th>\n",
       "      <td>tech</td>\n",
       "      <td>Ask Jeeves joins web log market</td>\n",
       "      <td>Ask Jeeves has bought the Bloglines website t...</td>\n",
       "      <td>4</td>\n",
       "    </tr>\n",
       "    <tr>\n",
       "      <th>2186</th>\n",
       "      <td>tech</td>\n",
       "      <td>US duo in first spam conviction</td>\n",
       "      <td>A brother and sister in the US have been conv...</td>\n",
       "      <td>3</td>\n",
       "    </tr>\n",
       "    <tr>\n",
       "      <th>2187</th>\n",
       "      <td>tech</td>\n",
       "      <td>'Ultimate game' award for Doom 3</td>\n",
       "      <td>Sci-fi shooter Doom 3 has blasted away the co...</td>\n",
       "      <td>2</td>\n",
       "    </tr>\n",
       "    <tr>\n",
       "      <th>2188</th>\n",
       "      <td>tech</td>\n",
       "      <td>BBC leads interactive Bafta wins</td>\n",
       "      <td>The BBC and the National Theatre have led the...</td>\n",
       "      <td>2</td>\n",
       "    </tr>\n",
       "    <tr>\n",
       "      <th>2189</th>\n",
       "      <td>tech</td>\n",
       "      <td>Xbox 2 may be unveiled in summer</td>\n",
       "      <td>Details of the next generation of Microsoft's...</td>\n",
       "      <td>0</td>\n",
       "    </tr>\n",
       "    <tr>\n",
       "      <th>2190</th>\n",
       "      <td>tech</td>\n",
       "      <td>Smart search lets art fans browse</td>\n",
       "      <td>If you don't know art but know what you like,...</td>\n",
       "      <td>4</td>\n",
       "    </tr>\n",
       "    <tr>\n",
       "      <th>2191</th>\n",
       "      <td>tech</td>\n",
       "      <td>Movie body targets children's PCs</td>\n",
       "      <td>The body that represents the US movie industr...</td>\n",
       "      <td>0</td>\n",
       "    </tr>\n",
       "    <tr>\n",
       "      <th>2192</th>\n",
       "      <td>tech</td>\n",
       "      <td>The gaming world in 2005</td>\n",
       "      <td>If you have finished Doom 3, Half Life 2 and ...</td>\n",
       "      <td>2</td>\n",
       "    </tr>\n",
       "    <tr>\n",
       "      <th>2193</th>\n",
       "      <td>tech</td>\n",
       "      <td>Microsoft sets sights on spyware</td>\n",
       "      <td>Windows users could soon be paying Microsoft ...</td>\n",
       "      <td>0</td>\n",
       "    </tr>\n",
       "    <tr>\n",
       "      <th>2194</th>\n",
       "      <td>tech</td>\n",
       "      <td>Web photo storage market hots up</td>\n",
       "      <td>An increasing number of firms are offering we...</td>\n",
       "      <td>4</td>\n",
       "    </tr>\n",
       "    <tr>\n",
       "      <th>2195</th>\n",
       "      <td>tech</td>\n",
       "      <td>Text message record smashed</td>\n",
       "      <td>UK mobile owners continue to break records wi...</td>\n",
       "      <td>1</td>\n",
       "    </tr>\n",
       "    <tr>\n",
       "      <th>2196</th>\n",
       "      <td>tech</td>\n",
       "      <td>File-swappers ready new network</td>\n",
       "      <td>Legal attacks on websites that help people sw...</td>\n",
       "      <td>0</td>\n",
       "    </tr>\n",
       "    <tr>\n",
       "      <th>2197</th>\n",
       "      <td>tech</td>\n",
       "      <td>Format wars could 'confuse users'</td>\n",
       "      <td>Technology firms Sony, Philips, Matsushita an...</td>\n",
       "      <td>0</td>\n",
       "    </tr>\n",
       "    <tr>\n",
       "      <th>2198</th>\n",
       "      <td>tech</td>\n",
       "      <td>Doors open at biggest gadget fair</td>\n",
       "      <td>Thousands of technology lovers and industry e...</td>\n",
       "      <td>4</td>\n",
       "    </tr>\n",
       "    <tr>\n",
       "      <th>2199</th>\n",
       "      <td>tech</td>\n",
       "      <td>Humanoid robot learns how to run</td>\n",
       "      <td>Car-maker Honda's humanoid robot Asimo has ju...</td>\n",
       "      <td>2</td>\n",
       "    </tr>\n",
       "    <tr>\n",
       "      <th>2200</th>\n",
       "      <td>tech</td>\n",
       "      <td>Virus poses as Christmas e-mail</td>\n",
       "      <td>Security firms are warning about a Windows vi...</td>\n",
       "      <td>0</td>\n",
       "    </tr>\n",
       "    <tr>\n",
       "      <th>2201</th>\n",
       "      <td>tech</td>\n",
       "      <td>Net regulation 'still possible'</td>\n",
       "      <td>The blurring of boundaries between TV and the...</td>\n",
       "      <td>1</td>\n",
       "    </tr>\n",
       "    <tr>\n",
       "      <th>2202</th>\n",
       "      <td>tech</td>\n",
       "      <td>The future in your pocket</td>\n",
       "      <td>If you are a geek or gadget fan, the next 12 ...</td>\n",
       "      <td>4</td>\n",
       "    </tr>\n",
       "    <tr>\n",
       "      <th>2203</th>\n",
       "      <td>tech</td>\n",
       "      <td>Blog reading explodes in America</td>\n",
       "      <td>Americans are becoming avid blog readers, wit...</td>\n",
       "      <td>1</td>\n",
       "    </tr>\n",
       "    <tr>\n",
       "      <th>2204</th>\n",
       "      <td>tech</td>\n",
       "      <td>Apple attacked over sources row</td>\n",
       "      <td>Civil liberties group the Electronic Frontier...</td>\n",
       "      <td>4</td>\n",
       "    </tr>\n",
       "    <tr>\n",
       "      <th>2205</th>\n",
       "      <td>tech</td>\n",
       "      <td>Cheaper chip for mobiles</td>\n",
       "      <td>A mobile phone chip which combines a modem an...</td>\n",
       "      <td>4</td>\n",
       "    </tr>\n",
       "    <tr>\n",
       "      <th>2206</th>\n",
       "      <td>tech</td>\n",
       "      <td>Progress on new internet domains</td>\n",
       "      <td>By early 2005 the net could have two new doma...</td>\n",
       "      <td>1</td>\n",
       "    </tr>\n",
       "    <tr>\n",
       "      <th>2207</th>\n",
       "      <td>tech</td>\n",
       "      <td>Slim PlayStation triples sales</td>\n",
       "      <td>Sony PlayStation 2's slimmer shape has proved...</td>\n",
       "      <td>0</td>\n",
       "    </tr>\n",
       "    <tr>\n",
       "      <th>2208</th>\n",
       "      <td>tech</td>\n",
       "      <td>Loyalty cards idea for TV addicts</td>\n",
       "      <td>Viewers could soon be rewarded for watching T...</td>\n",
       "      <td>4</td>\n",
       "    </tr>\n",
       "    <tr>\n",
       "      <th>2209</th>\n",
       "      <td>tech</td>\n",
       "      <td>Apple iPod family expands market</td>\n",
       "      <td>Apple has expanded its iPod family with the r...</td>\n",
       "      <td>4</td>\n",
       "    </tr>\n",
       "    <tr>\n",
       "      <th>2210</th>\n",
       "      <td>tech</td>\n",
       "      <td>DVD copy protection strengthened</td>\n",
       "      <td>DVDs will be harder to copy thanks to new ant...</td>\n",
       "      <td>0</td>\n",
       "    </tr>\n",
       "    <tr>\n",
       "      <th>2211</th>\n",
       "      <td>tech</td>\n",
       "      <td>Millions buy MP3 players in US</td>\n",
       "      <td>One in 10 adult Americans - equivalent to 22 ...</td>\n",
       "      <td>4</td>\n",
       "    </tr>\n",
       "    <tr>\n",
       "      <th>2212</th>\n",
       "      <td>tech</td>\n",
       "      <td>US woman sues over ink cartridges</td>\n",
       "      <td>A US woman is suing Hewlett Packard (HP), say...</td>\n",
       "      <td>0</td>\n",
       "    </tr>\n",
       "    <tr>\n",
       "      <th>2213</th>\n",
       "      <td>tech</td>\n",
       "      <td>The Force is strong in Battlefront</td>\n",
       "      <td>The warm reception that has greeted Star Wars...</td>\n",
       "      <td>2</td>\n",
       "    </tr>\n",
       "    <tr>\n",
       "      <th>2214</th>\n",
       "      <td>tech</td>\n",
       "      <td>Seamen sail into biometric future</td>\n",
       "      <td>The luxury cruise liner Crystal Harmony, curr...</td>\n",
       "      <td>1</td>\n",
       "    </tr>\n",
       "    <tr>\n",
       "      <th>2215</th>\n",
       "      <td>tech</td>\n",
       "      <td>Argonaut founder rebuilds empire</td>\n",
       "      <td>Jez San, the man behind the Argonaut games gr...</td>\n",
       "      <td>3</td>\n",
       "    </tr>\n",
       "    <tr>\n",
       "      <th>2216</th>\n",
       "      <td>tech</td>\n",
       "      <td>Blind student 'hears in colour'</td>\n",
       "      <td>A blind student has developed software that t...</td>\n",
       "      <td>0</td>\n",
       "    </tr>\n",
       "    <tr>\n",
       "      <th>2217</th>\n",
       "      <td>tech</td>\n",
       "      <td>Sony PSP tipped as a 'must-have'</td>\n",
       "      <td>Sony's Playstation Portable is the top gadget...</td>\n",
       "      <td>4</td>\n",
       "    </tr>\n",
       "    <tr>\n",
       "      <th>2218</th>\n",
       "      <td>tech</td>\n",
       "      <td>Software watching while you work</td>\n",
       "      <td>Software that can not only monitor every keys...</td>\n",
       "      <td>1</td>\n",
       "    </tr>\n",
       "    <tr>\n",
       "      <th>2219</th>\n",
       "      <td>tech</td>\n",
       "      <td>Norway upholds 'Napster' ruling</td>\n",
       "      <td>A Norwegian student who ran a website which l...</td>\n",
       "      <td>0</td>\n",
       "    </tr>\n",
       "    <tr>\n",
       "      <th>2220</th>\n",
       "      <td>tech</td>\n",
       "      <td>Warning over Windows Word files</td>\n",
       "      <td>Writing a Microsoft Word document can be a da...</td>\n",
       "      <td>1</td>\n",
       "    </tr>\n",
       "    <tr>\n",
       "      <th>2221</th>\n",
       "      <td>tech</td>\n",
       "      <td>Fast lifts rise into record books</td>\n",
       "      <td>Two high-speed lifts at the world's tallest b...</td>\n",
       "      <td>0</td>\n",
       "    </tr>\n",
       "    <tr>\n",
       "      <th>2222</th>\n",
       "      <td>tech</td>\n",
       "      <td>Nintendo adds media playing to DS</td>\n",
       "      <td>Nintendo is releasing an adapter for its DS h...</td>\n",
       "      <td>0</td>\n",
       "    </tr>\n",
       "    <tr>\n",
       "      <th>2223</th>\n",
       "      <td>tech</td>\n",
       "      <td>Fast moving phone viruses appear</td>\n",
       "      <td>Security firms are warning about several mobi...</td>\n",
       "      <td>0</td>\n",
       "    </tr>\n",
       "    <tr>\n",
       "      <th>2224</th>\n",
       "      <td>tech</td>\n",
       "      <td>Hacker threat to Apple's iTunes</td>\n",
       "      <td>Users of Apple's music jukebox iTunes need to...</td>\n",
       "      <td>0</td>\n",
       "    </tr>\n",
       "  </tbody>\n",
       "</table>\n",
       "</div>"
      ],
      "text/plain": [
       "     Category                             Heading  \\\n",
       "2185     tech     Ask Jeeves joins web log market   \n",
       "2186     tech     US duo in first spam conviction   \n",
       "2187     tech    'Ultimate game' award for Doom 3   \n",
       "2188     tech    BBC leads interactive Bafta wins   \n",
       "2189     tech    Xbox 2 may be unveiled in summer   \n",
       "2190     tech   Smart search lets art fans browse   \n",
       "2191     tech   Movie body targets children's PCs   \n",
       "2192     tech            The gaming world in 2005   \n",
       "2193     tech    Microsoft sets sights on spyware   \n",
       "2194     tech    Web photo storage market hots up   \n",
       "2195     tech         Text message record smashed   \n",
       "2196     tech     File-swappers ready new network   \n",
       "2197     tech   Format wars could 'confuse users'   \n",
       "2198     tech   Doors open at biggest gadget fair   \n",
       "2199     tech    Humanoid robot learns how to run   \n",
       "2200     tech     Virus poses as Christmas e-mail   \n",
       "2201     tech     Net regulation 'still possible'   \n",
       "2202     tech           The future in your pocket   \n",
       "2203     tech    Blog reading explodes in America   \n",
       "2204     tech     Apple attacked over sources row   \n",
       "2205     tech            Cheaper chip for mobiles   \n",
       "2206     tech    Progress on new internet domains   \n",
       "2207     tech      Slim PlayStation triples sales   \n",
       "2208     tech   Loyalty cards idea for TV addicts   \n",
       "2209     tech    Apple iPod family expands market   \n",
       "2210     tech    DVD copy protection strengthened   \n",
       "2211     tech      Millions buy MP3 players in US   \n",
       "2212     tech   US woman sues over ink cartridges   \n",
       "2213     tech  The Force is strong in Battlefront   \n",
       "2214     tech   Seamen sail into biometric future   \n",
       "2215     tech    Argonaut founder rebuilds empire   \n",
       "2216     tech     Blind student 'hears in colour'   \n",
       "2217     tech    Sony PSP tipped as a 'must-have'   \n",
       "2218     tech    Software watching while you work   \n",
       "2219     tech     Norway upholds 'Napster' ruling   \n",
       "2220     tech     Warning over Windows Word files   \n",
       "2221     tech   Fast lifts rise into record books   \n",
       "2222     tech   Nintendo adds media playing to DS   \n",
       "2223     tech    Fast moving phone viruses appear   \n",
       "2224     tech     Hacker threat to Apple's iTunes   \n",
       "\n",
       "                                                Article  Topic_num  \n",
       "2185   Ask Jeeves has bought the Bloglines website t...          4  \n",
       "2186   A brother and sister in the US have been conv...          3  \n",
       "2187   Sci-fi shooter Doom 3 has blasted away the co...          2  \n",
       "2188   The BBC and the National Theatre have led the...          2  \n",
       "2189   Details of the next generation of Microsoft's...          0  \n",
       "2190   If you don't know art but know what you like,...          4  \n",
       "2191   The body that represents the US movie industr...          0  \n",
       "2192   If you have finished Doom 3, Half Life 2 and ...          2  \n",
       "2193   Windows users could soon be paying Microsoft ...          0  \n",
       "2194   An increasing number of firms are offering we...          4  \n",
       "2195   UK mobile owners continue to break records wi...          1  \n",
       "2196   Legal attacks on websites that help people sw...          0  \n",
       "2197   Technology firms Sony, Philips, Matsushita an...          0  \n",
       "2198   Thousands of technology lovers and industry e...          4  \n",
       "2199   Car-maker Honda's humanoid robot Asimo has ju...          2  \n",
       "2200   Security firms are warning about a Windows vi...          0  \n",
       "2201   The blurring of boundaries between TV and the...          1  \n",
       "2202   If you are a geek or gadget fan, the next 12 ...          4  \n",
       "2203   Americans are becoming avid blog readers, wit...          1  \n",
       "2204   Civil liberties group the Electronic Frontier...          4  \n",
       "2205   A mobile phone chip which combines a modem an...          4  \n",
       "2206   By early 2005 the net could have two new doma...          1  \n",
       "2207   Sony PlayStation 2's slimmer shape has proved...          0  \n",
       "2208   Viewers could soon be rewarded for watching T...          4  \n",
       "2209   Apple has expanded its iPod family with the r...          4  \n",
       "2210   DVDs will be harder to copy thanks to new ant...          0  \n",
       "2211   One in 10 adult Americans - equivalent to 22 ...          4  \n",
       "2212   A US woman is suing Hewlett Packard (HP), say...          0  \n",
       "2213   The warm reception that has greeted Star Wars...          2  \n",
       "2214   The luxury cruise liner Crystal Harmony, curr...          1  \n",
       "2215   Jez San, the man behind the Argonaut games gr...          3  \n",
       "2216   A blind student has developed software that t...          0  \n",
       "2217   Sony's Playstation Portable is the top gadget...          4  \n",
       "2218   Software that can not only monitor every keys...          1  \n",
       "2219   A Norwegian student who ran a website which l...          0  \n",
       "2220   Writing a Microsoft Word document can be a da...          1  \n",
       "2221   Two high-speed lifts at the world's tallest b...          0  \n",
       "2222   Nintendo is releasing an adapter for its DS h...          0  \n",
       "2223   Security firms are warning about several mobi...          0  \n",
       "2224   Users of Apple's music jukebox iTunes need to...          0  "
      ]
     },
     "execution_count": 75,
     "metadata": {},
     "output_type": "execute_result"
    }
   ],
   "source": [
    "docs.tail(n= 40)"
   ]
  },
  {
   "cell_type": "code",
   "execution_count": null,
   "metadata": {},
   "outputs": [],
   "source": []
  }
 ],
 "metadata": {
  "kernelspec": {
   "display_name": "Python 3",
   "language": "python",
   "name": "python3"
  },
  "language_info": {
   "codemirror_mode": {
    "name": "ipython",
    "version": 3
   },
   "file_extension": ".py",
   "mimetype": "text/x-python",
   "name": "python",
   "nbconvert_exporter": "python",
   "pygments_lexer": "ipython3",
   "version": "3.8.3"
  }
 },
 "nbformat": 4,
 "nbformat_minor": 4
}
